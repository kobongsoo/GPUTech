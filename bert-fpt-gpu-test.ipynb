{
 "cells": [
  {
   "cell_type": "code",
   "execution_count": 1,
   "id": "1bd66b12-3efc-49a7-bdeb-739ff11bd456",
   "metadata": {},
   "outputs": [
    {
     "name": "stdout",
     "output_type": "stream",
     "text": [
      "logfilepath:../log/bwdataset_2022-04-21.log\n",
      "logfilepath:../log/qnadataset_2022-04-21.log\n"
     ]
    }
   ],
   "source": [
    "#====================================================================================\n",
    "# MLM 방식을 이용한 Further pre-traning 방식 구현 예제\n",
    "# 참고 소스 : https://towardsdatascience.com/masked-language-modelling-with-bert-7d49793e5d2c 참조 바람\n",
    "#====================================================================================\n",
    "import torch\n",
    "import copy\n",
    "import os\n",
    "#os.environ['CUDA_LAUNCH_BLOCKING'] = \"1\"\n",
    "#os.environ[\"CUDA_VISIBLE_DEVICES\"] = \"0\"\n",
    "\n",
    "from tqdm.notebook import tqdm\n",
    "from transformers import BertTokenizer, BertConfig, BertForMaskedLM, BertTokenizerFast\n",
    "from transformers import AdamW, get_linear_schedule_with_warmup\n",
    "from os import sys\n",
    "sys.path.append('..')\n",
    "from myutils import GPU_info, seed_everything, mlogging, AccuracyForMLM, SaveBERTModel\n",
    "\n",
    "#====================================================================================\n",
    "# bitsandbytes 라이브러리 설치\n",
    "# => 8-bit optimizer 사용을 위해 cuda 버전을 확인하고, 해당 버전에 맞는 bitsandbytes 라이브러리 설치함\n",
    "#   Bitsandbytes is a lightweight wrapper around CUDA custom functions, \n",
    "#   in particular 8-bit optimizers and quantization functions.\n",
    "# => 참조 : https://github.com/facebookresearch/bitsandbytes\n",
    "#\n",
    "#!conda list | grep cudatoolkit     # cuda 버전 확인\n",
    "#!pip install bitsandbytes-cuda113  # 해당 버전에 맞는 bitsandbytes 설치 (버전이 11.3 이면, cuda113 으로 설치)\n",
    "#====================================================================================\n",
    "import bitsandbytes as bnb"
   ]
  },
  {
   "cell_type": "code",
   "execution_count": 2,
   "id": "9e4a0bcb-930e-45da-bc18-b4f2b5329266",
   "metadata": {},
   "outputs": [],
   "source": [
    "################################################\n",
    "# GPU 보다 큰 모델을 FineTuning 하기 위한 방법\n",
    "# -> \"CUDA 메모리 오류\" 문제를 해결하기 위한 몇가지 방법\n",
    "# 참고 : https://medium.com/@bestasoff/how-to-fine-tune-very-large-model-if-it-doesnt-fit-on-your-gpu-3561e50859af\n",
    "################################################\n",
    "#================================================\n",
    "# 1.gkadient_checkpoint 적용\n",
    "# => backprop 하기전, 순차적으로 피드포워드 된 노드들의 값을 모두 메모리에 저장해 두는 대신, \n",
    "# 체크포인트 방식으로, 필요한 노드들의 값만 메모리에 저장해 두는 방식\n",
    "# => 사용법 : model.gradient_checkpointing_enable()\n",
    "#\n",
    "gradient_checkpoint = True\n",
    "#================================================\n",
    "# 2. micro_batch/Gradient accumulation(마이크로 배치&기울기 축적)\n",
    "# => 배치사이즈는 8로 하고, 대신에 accumulation_steps= 4로 해서, 4번 기울기 축적을 누적해서 \n",
    "# 32배치사이즈와 동일한 효과를 주는 방식\n",
    "# => *훈련시간이 1.3배 더 증가함\n",
    "#\n",
    "micro_batch = True\n",
    "micro_batch_size = 8\n",
    "accumulation_steps = 4\n",
    "#================================================\n",
    "# 3. 8bit-adam optimizer 사용\n",
    "# => 기존 32bit Adam 옵티마이져 대신 8bit Aadmin 옵티마이져를 사용하여, 2^32 -> 2^8 으로 메모리를낮춤\n",
    "# => *bert 모델에서 훈련 테스트시 gpu 메모리가 낮아지지는 않았음\n",
    "# => 사용방법 : optimizer = bnb.optim.Adam8bit(model.parameters(), lr=learning_rate, betas=(0.9, 0.995))\n",
    "adam8bit_use = False\n",
    "#================================================\n",
    "# 4. Mixed-precision training(혼합 정밀도 훈련)\n",
    "# => 훈련은 gpu 모델을 이용하는 데신, gpu 모델 크기를 반으로 줄여(FP16) 사용하고,\n",
    "# 대신 optimizer는 cpu 모델을 이용하여 gd를 업데이트 하는 방식\n",
    "# => gpu 모델과 cpu 모델 2개 필요. 훈련시간이 gpu일때 보다 10배정도 증가, \n",
    "# => adam8bit 와 함께 동작시, 'Error an illegal memory access was encountered at line 276 in file /private/home/timdettmers/git/bitsandbytes/csrc/ops.cu' 에러 발생(*원인 모름)\n",
    "mix_precision = True"
   ]
  },
  {
   "cell_type": "code",
   "execution_count": 3,
   "id": "f3321a0d-57d3-400b-be05-619e1bf63842",
   "metadata": {},
   "outputs": [],
   "source": [
    "# 훈련시킬 말뭉치(사전 만들때 동일한 말뭉치 이용)\n",
    "#input_corpus = \"../korpora/kowiki_20190620/wiki_20190620_mecab_false_0311.txt\"\n",
    "input_corpus = \"../korpora/kowiki_20190620/wiki_20190620_small.txt\"\n",
    "\n",
    "# eval 말뭉치 \n",
    "eval_corpus = \"../korpora/kowiki_20190620/wiki_eval_test.txt\"\n",
    "\n",
    "# 기존 사전훈련된 모델\n",
    "model_path = \"../model/bert/bert-multilingual-cased\"\n",
    "\n",
    "# 기존 사전 + 추가된 사전 파일\n",
    "vocab_path=\"../tokenizer/my_vocab\"\n",
    "#vocab_path=\"../tokenizer/wiki_20190620_nouns_0324\"\n",
    "\n",
    "# 출력\n",
    "OUTPATH = '../model/bert/bert-multilingual-cased-0421/'\n",
    "\n",
    "token_max_len = 128\n",
    "batch_size = 32\n"
   ]
  },
  {
   "cell_type": "code",
   "execution_count": 4,
   "id": "70b2d1d9-41dd-42eb-8886-a92e29b581a3",
   "metadata": {},
   "outputs": [
    {
     "name": "stdout",
     "output_type": "stream",
     "text": [
      "True\n",
      "device: cuda:0\n",
      "cuda index: 0\n",
      "gpu 개수: 1\n",
      "graphic name: NVIDIA A30\n",
      "cuda:0\n",
      "logfilepath:../log/bertfpt3_2022-04-21.log\n"
     ]
    }
   ],
   "source": [
    "device = GPU_info()\n",
    "print(device)\n",
    "\n",
    "#seed 설정\n",
    "seed_everything(222)\n",
    "\n",
    "#logging 설정\n",
    "logger =  mlogging(loggername=\"bertfpt3\", logfilename=\"../log/bertfpt3\")"
   ]
  },
  {
   "cell_type": "code",
   "execution_count": 5,
   "id": "bd6fad4a-7b5b-4502-93bc-7564f197398e",
   "metadata": {},
   "outputs": [
    {
     "name": "stdout",
     "output_type": "stream",
     "text": [
      "special_token_size: 5, tokenizer.vocab_size: 149793\n",
      "vocab_size: 149798\n",
      "tokenizer_len: 149793\n"
     ]
    },
    {
     "name": "stderr",
     "output_type": "stream",
     "text": [
      "Some weights of the model checkpoint at ../model/bert/bert-multilingual-cased were not used when initializing BertForMaskedLM: ['cls.seq_relationship.weight', 'cls.seq_relationship.bias']\n",
      "- This IS expected if you are initializing BertForMaskedLM from the checkpoint of a model trained on another task or with another architecture (e.g. initializing a BertForSequenceClassification model from a BertForPreTraining model).\n",
      "- This IS NOT expected if you are initializing BertForMaskedLM from the checkpoint of a model that you expect to be exactly identical (initializing a BertForSequenceClassification model from a BertForSequenceClassification model).\n",
      "Some weights of the model checkpoint at ../model/bert/bert-multilingual-cased were not used when initializing BertForMaskedLM: ['cls.seq_relationship.weight', 'cls.seq_relationship.bias']\n",
      "- This IS expected if you are initializing BertForMaskedLM from the checkpoint of a model trained on another task or with another architecture (e.g. initializing a BertForSequenceClassification model from a BertForPreTraining model).\n",
      "- This IS NOT expected if you are initializing BertForMaskedLM from the checkpoint of a model that you expect to be exactly identical (initializing a BertForSequenceClassification model from a BertForSequenceClassification model).\n",
      "2022-04-21 13:24:24,042 - bertfpt3 - INFO - ==>*mix_precision 적용=>cpu_model 생성\n"
     ]
    }
   ],
   "source": [
    "# tokeinzier 생성\n",
    "# tokenizer 생성\n",
    "# => BertTokenizer, BertTokenizerFast 둘중 사용하면됨\n",
    "\n",
    "#tokenizer = BertTokenizer(vocab_file=vocab_path, max_len=token_max_len, do_lower_case=False)\n",
    "tokenizer = BertTokenizer.from_pretrained(vocab_path, max_len=token_max_len, do_lower_case=False)\n",
    "# tokenizer = BertTokenizerFast(vocab_file=vocab_file, max_len=token_max_len, do_lower_case=False)\n",
    "\n",
    "\n",
    "# speical 토큰 계수 + vocab 계수 - 이미 vocab에 포함된 speical 토큰 계수(5)\n",
    "vocab_size = len(tokenizer.all_special_tokens) + tokenizer.vocab_size\n",
    "#vocab_size = len(tokenizer.all_special_tokens) + tokenizer.vocab_size - 5 + 1\n",
    "#vocab_size = len(tokenizer.all_special_tokens) + tokenizer.vocab_size - 5\n",
    "print('special_token_size: {}, tokenizer.vocab_size: {}'.format(len(tokenizer.all_special_tokens), tokenizer.vocab_size))\n",
    "print('vocab_size: {}'.format(vocab_size))\n",
    "print('tokenizer_len: {}'.format(len(tokenizer)))\n",
    "\n",
    "# 모델 로딩 further pre-training \n",
    "#config = BertConfig.from_pretrained(model_path)\n",
    "#model = BertForMaskedLM.from_pretrained(model_path, from_tf=bool(\".ckpt\" in model_path), config=config) \n",
    "\n",
    "##############################################################################\n",
    "# mix_precision 적용인 경우 => gpu_Model 사이즈는 반으로 줄임\n",
    "if mix_precision:\n",
    "    model = BertForMaskedLM.from_pretrained(model_path).half()\n",
    "else:\n",
    "    model = BertForMaskedLM.from_pretrained(model_path)\n",
    "\n",
    "#################################################################################\n",
    "# 모델 embedding 사이즈를 tokenizer 크기 만큼 재 설정함.\n",
    "# 재설정하지 않으면, 다음과 같은 에러 발생함\n",
    "# CUDA error: CUBLAS_STATUS_NOT_INITIALIZED when calling `cublasCreate(handle)` CUDA 에러가 발생함\n",
    "#  indexSelectLargeIndex: block: [306,0,0], thread: [0,0,0] Assertion `srcIndex < srcSelectDimSize` failed.\n",
    "#\n",
    "#     해당 오류는 기존 Embedding(8002, 768, padding_idx=1) 처럼 입력 vocab 사이즈가 8002인데,\n",
    "#     0~8001 사이를 초과하는 word idx 값이 들어가면 에러 발생함.\n",
    "#################################################################################\n",
    "model.resize_token_embeddings(len(tokenizer))\n",
    "model.to(device)\n",
    "\n",
    "#############################################################################\n",
    "# mix_precision 적용인 경우 => cpumodel을 하나 생성\n",
    "if mix_precision:\n",
    "    cpu_model = BertForMaskedLM.from_pretrained(model_path)  \n",
    "    cpu_model.resize_token_embeddings(len(tokenizer))\n",
    "    logger.info(f'==>*mix_precision 적용=>cpu_model 생성')\n",
    "    cpu_model.to('cpu')\n",
    "#############################################################################\n"
   ]
  },
  {
   "cell_type": "code",
   "execution_count": 6,
   "id": "8e41cf1f-4010-4348-8921-67d0f21ea09b",
   "metadata": {},
   "outputs": [
    {
     "name": "stderr",
     "output_type": "stream",
     "text": [
      "2022-04-21 13:24:24,056 - bertfpt3 - INFO - ==>*micro_batch 적용, accumulation_steps:4\n"
     ]
    },
    {
     "name": "stdout",
     "output_type": "stream",
     "text": [
      "CLSid:101, SEPid:102, UNKid:100, PADid:0, MASKid:103\n",
      "*corpus:../korpora/kowiki_20190620/wiki_20190620_small.txt\n",
      "*max_sequence_len:128\n",
      "*mlm_probability:0.15\n",
      "*CLStokenid:101, SEPtokenid:102, UNKtokenid:100, PADtokeinid:0, Masktokeid:103\n",
      "*total_line: 10000\n"
     ]
    },
    {
     "data": {
      "application/vnd.jupyter.widget-view+json": {
       "model_id": "5a55483e59ec40cb8112132634b4fa6e",
       "version_major": 2,
       "version_minor": 0
      },
      "text/plain": [
       "  0%|          | 0/10000 [00:00<?, ?it/s]"
      ]
     },
     "metadata": {},
     "output_type": "display_data"
    },
    {
     "data": {
      "application/vnd.jupyter.widget-view+json": {
       "model_id": "2c409efd8168488bbba54ab344181681",
       "version_major": 2,
       "version_minor": 0
      },
      "text/plain": [
       "  0%|          | 0/10000 [00:00<?, ?it/s]"
      ]
     },
     "metadata": {},
     "output_type": "display_data"
    },
    {
     "name": "stderr",
     "output_type": "stream",
     "text": [
      "2022-04-21 13:24:28,676 - bwpdataset - INFO - ==>[Start] cached file create: ../korpora/kowiki_20190620/cached_lm_BertTokenizer_128_wiki_20190620_small.txt\n",
      "2022-04-21 13:24:28,784 - bwpdataset - INFO - <==[End] Saving features into cached file ../korpora/kowiki_20190620/cached_lm_BertTokenizer_128_wiki_20190620_small.txt [took 0.106 s]\n"
     ]
    },
    {
     "name": "stdout",
     "output_type": "stream",
     "text": [
      "*corpus:../korpora/kowiki_20190620/wiki_eval_test.txt\n",
      "*max_sequence_len:128\n",
      "*mlm_probability:0.15\n",
      "*CLStokenid:101, SEPtokenid:102, UNKtokenid:100, PADtokeinid:0, Masktokeid:103\n",
      "*total_line: 114\n"
     ]
    },
    {
     "data": {
      "application/vnd.jupyter.widget-view+json": {
       "model_id": "87134e0385e0486485b3b7e63e07490d",
       "version_major": 2,
       "version_minor": 0
      },
      "text/plain": [
       "  0%|          | 0/114 [00:00<?, ?it/s]"
      ]
     },
     "metadata": {},
     "output_type": "display_data"
    },
    {
     "data": {
      "application/vnd.jupyter.widget-view+json": {
       "model_id": "0918f56663874a3db8d09ce4e8952db1",
       "version_major": 2,
       "version_minor": 0
      },
      "text/plain": [
       "  0%|          | 0/114 [00:00<?, ?it/s]"
      ]
     },
     "metadata": {},
     "output_type": "display_data"
    },
    {
     "name": "stderr",
     "output_type": "stream",
     "text": [
      "2022-04-21 13:24:28,952 - bwpdataset - INFO - ==>[Start] cached file create: ../korpora/kowiki_20190620/cached_lm_BertTokenizer_128_wiki_eval_test.txt\n",
      "2022-04-21 13:24:28,955 - bwpdataset - INFO - <==[End] Saving features into cached file ../korpora/kowiki_20190620/cached_lm_BertTokenizer_128_wiki_eval_test.txt [took 0.002 s]\n"
     ]
    },
    {
     "name": "stdout",
     "output_type": "stream",
     "text": [
      "{'input_ids': tensor([   101, 123809,   9551,    107,    103,    107,    103, 126023,    103,\n",
      "        120115, 120169,  23545,    103,  48506,  70672,  30919,    103,    102,\n",
      "             0,      0,      0,      0,      0,      0,      0,      0,      0,\n",
      "             0,      0,      0,      0,      0,      0,      0,      0,      0,\n",
      "             0,      0,      0,      0,      0,      0,      0,      0,      0,\n",
      "             0,      0,      0,      0,      0,      0,      0,      0,      0,\n",
      "             0,      0,      0,      0,      0,      0,      0,      0,      0,\n",
      "             0,      0,      0,      0,      0,      0,      0,      0,      0,\n",
      "             0,      0,      0,      0,      0,      0,      0,      0,      0,\n",
      "             0,      0,      0,      0,      0,      0,      0,      0,      0,\n",
      "             0,      0,      0,      0,      0,      0,      0,      0,      0,\n",
      "             0,      0,      0,      0,      0,      0,      0,      0,      0,\n",
      "             0,      0,      0,      0,      0,      0,      0,      0,      0,\n",
      "             0,      0,      0,      0,      0,      0,      0,      0,      0,\n",
      "             0,      0]), 'token_type_ids': tensor([0, 0, 0, 0, 0, 0, 0, 0, 0, 0, 0, 0, 0, 0, 0, 0, 0, 0, 0, 0, 0, 0, 0, 0,\n",
      "        0, 0, 0, 0, 0, 0, 0, 0, 0, 0, 0, 0, 0, 0, 0, 0, 0, 0, 0, 0, 0, 0, 0, 0,\n",
      "        0, 0, 0, 0, 0, 0, 0, 0, 0, 0, 0, 0, 0, 0, 0, 0, 0, 0, 0, 0, 0, 0, 0, 0,\n",
      "        0, 0, 0, 0, 0, 0, 0, 0, 0, 0, 0, 0, 0, 0, 0, 0, 0, 0, 0, 0, 0, 0, 0, 0,\n",
      "        0, 0, 0, 0, 0, 0, 0, 0, 0, 0, 0, 0, 0, 0, 0, 0, 0, 0, 0, 0, 0, 0, 0, 0,\n",
      "        0, 0, 0, 0, 0, 0, 0, 0]), 'attention_mask': tensor([1, 1, 1, 1, 1, 1, 1, 1, 1, 1, 1, 1, 1, 1, 1, 1, 1, 1, 0, 0, 0, 0, 0, 0,\n",
      "        0, 0, 0, 0, 0, 0, 0, 0, 0, 0, 0, 0, 0, 0, 0, 0, 0, 0, 0, 0, 0, 0, 0, 0,\n",
      "        0, 0, 0, 0, 0, 0, 0, 0, 0, 0, 0, 0, 0, 0, 0, 0, 0, 0, 0, 0, 0, 0, 0, 0,\n",
      "        0, 0, 0, 0, 0, 0, 0, 0, 0, 0, 0, 0, 0, 0, 0, 0, 0, 0, 0, 0, 0, 0, 0, 0,\n",
      "        0, 0, 0, 0, 0, 0, 0, 0, 0, 0, 0, 0, 0, 0, 0, 0, 0, 0, 0, 0, 0, 0, 0, 0,\n",
      "        0, 0, 0, 0, 0, 0, 0, 0]), 'labels': tensor([   101, 123809,   9551,    107, 135472,    107, 138135, 126023,  11018,\n",
      "        120115, 120169,  23545,  11303,  48506,  70672,  30919,    119,    102,\n",
      "             0,      0,      0,      0,      0,      0,      0,      0,      0,\n",
      "             0,      0,      0,      0,      0,      0,      0,      0,      0,\n",
      "             0,      0,      0,      0,      0,      0,      0,      0,      0,\n",
      "             0,      0,      0,      0,      0,      0,      0,      0,      0,\n",
      "             0,      0,      0,      0,      0,      0,      0,      0,      0,\n",
      "             0,      0,      0,      0,      0,      0,      0,      0,      0,\n",
      "             0,      0,      0,      0,      0,      0,      0,      0,      0,\n",
      "             0,      0,      0,      0,      0,      0,      0,      0,      0,\n",
      "             0,      0,      0,      0,      0,      0,      0,      0,      0,\n",
      "             0,      0,      0,      0,      0,      0,      0,      0,      0,\n",
      "             0,      0,      0,      0,      0,      0,      0,      0,      0,\n",
      "             0,      0,      0,      0,      0,      0,      0,      0,      0,\n",
      "             0,      0])}\n"
     ]
    }
   ],
   "source": [
    "from torch.utils.data import DataLoader, RandomSampler\n",
    "import sys\n",
    "sys.path.append('..')\n",
    "from myutils import MLMDataset\n",
    "\n",
    "#######################################################################\n",
    "# micro_batch_size 적용인 경우에는 batch_size를 micro_batch_size 로 변경함\n",
    "if micro_batch:\n",
    "    batch_size = micro_batch_size\n",
    "    logger.info(f'==>*micro_batch 적용, accumulation_steps:{accumulation_steps}')\n",
    "#######################################################################\n",
    "\n",
    "# 각 스페셜 tokenid를 구함\n",
    "CLStokenid = tokenizer.convert_tokens_to_ids('[CLS]')\n",
    "SEPtokenid = tokenizer.convert_tokens_to_ids('[SEP]')\n",
    "UNKtokenid = tokenizer.convert_tokens_to_ids('[UNK]')\n",
    "PADtokenid = tokenizer.convert_tokens_to_ids('[PAD]')\n",
    "MASKtokenid = tokenizer.convert_tokens_to_ids('[MASK]')\n",
    "print('CLSid:{}, SEPid:{}, UNKid:{}, PADid:{}, MASKid:{}'.format(CLStokenid, SEPtokenid, UNKtokenid, PADtokenid, MASKtokenid))\n",
    "\n",
    "\n",
    "train_dataset = MLMDataset(corpus_path = input_corpus,\n",
    "                           tokenizer = tokenizer, \n",
    "                           CLStokeinid = CLStokenid ,   # [CLS] 토큰 id\n",
    "                           SEPtokenid = SEPtokenid ,    # [SEP] 토큰 id\n",
    "                           UNKtokenid = UNKtokenid ,    # [UNK] 토큰 id\n",
    "                           PADtokenid = PADtokenid,    # [PAD] 토큰 id\n",
    "                           Masktokenid = MASKtokenid,   # [MASK] 토큰 id\n",
    "                           max_sequence_len=token_max_len,  # max_sequence_len)\n",
    "                           mlm_probability=0.15,\n",
    "                           overwrite_cache=True\n",
    "                          )\n",
    "\n",
    "\n",
    "# 학습 dataloader 생성\n",
    "# => tenosor로 만듬\n",
    "train_loader = DataLoader(train_dataset, \n",
    "                          batch_size=batch_size, \n",
    "                          #shuffle=True, # dataset을 섞음\n",
    "                          sampler=RandomSampler(train_dataset, replacement=False), #dataset을 랜덤하게 샘플링함\n",
    "                          num_workers=3\n",
    "                         )\n",
    "\n",
    "#===============================================================================\n",
    "# eval dataloader 생성\n",
    "eval_dataset = MLMDataset(corpus_path = eval_corpus,\n",
    "                          tokenizer = tokenizer, \n",
    "                          CLStokeinid = CLStokenid ,   # [CLS] 토큰 id\n",
    "                          SEPtokenid = SEPtokenid ,    # [SEP] 토큰 id\n",
    "                          UNKtokenid = UNKtokenid ,    # [UNK] 토큰 id\n",
    "                          PADtokenid = PADtokenid,    # [PAD] 토큰 id\n",
    "                          Masktokenid = MASKtokenid,   # [MASK] 토큰 id\n",
    "                          max_sequence_len=token_max_len,  # max_sequence_len)\n",
    "                          mlm_probability=0.15,\n",
    "                          overwrite_cache=True\n",
    "                          )\n",
    "\n",
    "\n",
    "# eval dataloader 생성\n",
    "# => tenosor로 만듬\n",
    "eval_loader = DataLoader(eval_dataset, \n",
    "                         batch_size=batch_size, \n",
    "                         #shuffle=True, # dataset을 섞음\n",
    "                         sampler=RandomSampler(eval_dataset, replacement=False), #dataset을 랜덤하게 샘플링함\n",
    "                         num_workers=3\n",
    "                         )\n",
    "#===============================================================================\n",
    "\n",
    "print(train_dataset[0])"
   ]
  },
  {
   "cell_type": "code",
   "execution_count": 7,
   "id": "89756e9c-7002-4d63-b2ef-a3431486fb74",
   "metadata": {},
   "outputs": [
    {
     "name": "stderr",
     "output_type": "stream",
     "text": [
      "2022-04-21 13:24:28,993 - bertfpt3 - INFO - ==>*mix_precision 적용\n",
      "2022-04-21 13:24:28,996 - bertfpt3 - INFO - ==>*gradient_checkpoint 적용\n",
      "2022-04-21 13:24:28,997 - bertfpt3 - INFO - ==>*micro_batch 적용, accumulation_steps:4\n",
      "2022-04-21 13:24:28,998 - bertfpt3 - INFO - *batch_size:8, epochs:3, lr:3e-05, token_max_len:128\n"
     ]
    },
    {
     "data": {
      "application/vnd.jupyter.widget-view+json": {
       "model_id": "41b27678d121412481520454d9d269ed",
       "version_major": 2,
       "version_minor": 0
      },
      "text/plain": [
       "  0%|          | 0/3 [00:00<?, ?it/s]"
      ]
     },
     "metadata": {},
     "output_type": "display_data"
    },
    {
     "data": {
      "application/vnd.jupyter.widget-view+json": {
       "model_id": "4fed442140bf43b990bb259a0271a8f8",
       "version_major": 2,
       "version_minor": 0
      },
      "text/plain": [
       "  0%|          | 0/1228 [00:00<?, ?it/s]"
      ]
     },
     "metadata": {},
     "output_type": "display_data"
    },
    {
     "name": "stderr",
     "output_type": "stream",
     "text": [
      "2022-04-21 13:25:19,148 - bertfpt3 - INFO - [Epoch 1/3] Iteration 122 -> Train Loss: 3.4217, Train Acc: 0.5849, Val Acc:0.6005459508644222\n",
      "2022-04-21 13:26:01,562 - bertfpt3 - INFO - [Epoch 1/3] Iteration 244 -> Train Loss: 1.8264, Train Acc: 0.5593, Val Acc:0.5486806187443131\n",
      "2022-04-21 13:26:43,997 - bertfpt3 - INFO - [Epoch 1/3] Iteration 366 -> Train Loss: 0.4147, Train Acc: 0.5457, Val Acc:0.599939338792842\n",
      "2022-04-21 13:27:25,305 - bertfpt3 - INFO - [Epoch 1/3] Iteration 488 -> Train Loss: 0.2357, Train Acc: 0.6192, Val Acc:0.6642402183803457\n",
      "2022-04-21 13:28:06,246 - bertfpt3 - INFO - [Epoch 1/3] Iteration 610 -> Train Loss: 0.1450, Train Acc: 0.6998, Val Acc:0.7719138610858356\n",
      "2022-04-21 13:28:48,694 - bertfpt3 - INFO - [Epoch 1/3] Iteration 732 -> Train Loss: 0.1004, Train Acc: 0.8004, Val Acc:0.835304822565969\n",
      "2022-04-21 13:29:27,956 - bertfpt3 - INFO - [Epoch 1/3] Iteration 854 -> Train Loss: 0.0747, Train Acc: 0.8547, Val Acc:0.8650288140734\n",
      "2022-04-21 13:30:10,107 - bertfpt3 - INFO - [Epoch 1/3] Iteration 976 -> Train Loss: 0.0664, Train Acc: 0.8722, Val Acc:0.8762511373976342\n",
      "2022-04-21 13:30:49,950 - bertfpt3 - INFO - [Epoch 1/3] Iteration 1098 -> Train Loss: 0.0588, Train Acc: 0.8879, Val Acc:0.8835304822565969\n",
      "2022-04-21 13:31:31,258 - bertfpt3 - INFO - [Epoch 1/3] Iteration 1220 -> Train Loss: 0.0541, Train Acc: 0.8938, Val Acc:0.8874734607218684\n"
     ]
    },
    {
     "data": {
      "application/vnd.jupyter.widget-view+json": {
       "model_id": "2034777ecd974bb9a0db6f0e34f69f85",
       "version_major": 2,
       "version_minor": 0
      },
      "text/plain": [
       "  0%|          | 0/1228 [00:00<?, ?it/s]"
      ]
     },
     "metadata": {},
     "output_type": "display_data"
    },
    {
     "name": "stderr",
     "output_type": "stream",
     "text": [
      "2022-04-21 13:32:16,391 - bertfpt3 - INFO - [Epoch 2/3] Iteration 1342 -> Train Loss: 0.0959, Train Acc: 0.8020, Val Acc:0.8908098271155596\n",
      "2022-04-21 13:32:53,261 - bertfpt3 - INFO - [Epoch 2/3] Iteration 1464 -> Train Loss: 0.0476, Train Acc: 0.8972, Val Acc:0.89171974522293\n",
      "2022-04-21 13:33:30,930 - bertfpt3 - INFO - [Epoch 2/3] Iteration 1586 -> Train Loss: 0.0469, Train Acc: 0.8989, Val Acc:0.8944494995450409\n",
      "2022-04-21 13:34:09,157 - bertfpt3 - INFO - [Epoch 2/3] Iteration 1708 -> Train Loss: 0.0444, Train Acc: 0.9007, Val Acc:0.8962693357597816\n",
      "2022-04-21 13:34:46,099 - bertfpt3 - INFO - [Epoch 2/3] Iteration 1830 -> Train Loss: 0.0435, Train Acc: 0.9019, Val Acc:0.8965726417955717\n",
      "2022-04-21 13:35:25,450 - bertfpt3 - INFO - [Epoch 2/3] Iteration 1952 -> Train Loss: 0.0440, Train Acc: 0.9021, Val Acc:0.8968759478313618\n",
      "2022-04-21 13:36:03,278 - bertfpt3 - INFO - [Epoch 2/3] Iteration 2074 -> Train Loss: 0.0452, Train Acc: 0.9020, Val Acc:0.8971792538671519\n",
      "2022-04-21 13:36:45,127 - bertfpt3 - INFO - [Epoch 2/3] Iteration 2196 -> Train Loss: 0.0423, Train Acc: 0.9047, Val Acc:0.8971792538671519\n",
      "2022-04-21 13:37:21,646 - bertfpt3 - INFO - [Epoch 2/3] Iteration 2318 -> Train Loss: 0.0430, Train Acc: 0.9051, Val Acc:0.8983924780103124\n",
      "2022-04-21 13:38:01,032 - bertfpt3 - INFO - [Epoch 2/3] Iteration 2440 -> Train Loss: 0.0418, Train Acc: 0.9046, Val Acc:0.8980891719745223\n"
     ]
    },
    {
     "data": {
      "application/vnd.jupyter.widget-view+json": {
       "model_id": "2f2e8f2359854892b3b69b97a3f718bf",
       "version_major": 2,
       "version_minor": 0
      },
      "text/plain": [
       "  0%|          | 0/1228 [00:00<?, ?it/s]"
      ]
     },
     "metadata": {},
     "output_type": "display_data"
    },
    {
     "name": "stderr",
     "output_type": "stream",
     "text": [
      "2022-04-21 13:38:49,554 - bertfpt3 - INFO - [Epoch 3/3] Iteration 2562 -> Train Loss: 0.0523, Train Acc: 0.8817, Val Acc:0.8993023961176827\n",
      "2022-04-21 13:39:30,393 - bertfpt3 - INFO - [Epoch 3/3] Iteration 2684 -> Train Loss: 0.0387, Train Acc: 0.9089, Val Acc:0.8993023961176827\n",
      "2022-04-21 13:40:09,794 - bertfpt3 - INFO - [Epoch 3/3] Iteration 2806 -> Train Loss: 0.0425, Train Acc: 0.9049, Val Acc:0.9002123142250531\n",
      "2022-04-21 13:40:51,425 - bertfpt3 - INFO - [Epoch 3/3] Iteration 2928 -> Train Loss: 0.0436, Train Acc: 0.9050, Val Acc:0.8977858659387322\n",
      "2022-04-21 13:41:33,336 - bertfpt3 - INFO - [Epoch 3/3] Iteration 3050 -> Train Loss: 0.0440, Train Acc: 0.9082, Val Acc:0.8977858659387322\n",
      "2022-04-21 13:42:12,743 - bertfpt3 - INFO - [Epoch 3/3] Iteration 3172 -> Train Loss: 0.0427, Train Acc: 0.9086, Val Acc:0.8989990900818926\n",
      "2022-04-21 13:42:53,277 - bertfpt3 - INFO - [Epoch 3/3] Iteration 3294 -> Train Loss: 0.0443, Train Acc: 0.9052, Val Acc:0.9002123142250531\n",
      "2022-04-21 13:43:33,567 - bertfpt3 - INFO - [Epoch 3/3] Iteration 3416 -> Train Loss: 0.0402, Train Acc: 0.9090, Val Acc:0.9008189262966333\n",
      "2022-04-21 13:44:14,369 - bertfpt3 - INFO - [Epoch 3/3] Iteration 3538 -> Train Loss: 0.0415, Train Acc: 0.9086, Val Acc:0.9014255383682135\n",
      "2022-04-21 13:44:54,598 - bertfpt3 - INFO - [Epoch 3/3] Iteration 3660 -> Train Loss: 0.0426, Train Acc: 0.9070, Val Acc:0.9002123142250531\n"
     ]
    }
   ],
   "source": [
    "##################################################\n",
    "epochs = 3            # epochs\n",
    "learning_rate = 3e-5  # 학습률\n",
    "##################################################\n",
    "\n",
    "##################################################\n",
    "# adam8bit_use & mix_precision 적용\n",
    "if adam8bit_use & mix_precision:\n",
    "    optimizer = bnb.optim.Adam8bit(cpu_model.parameters(), lr=learning_rate, betas=(0.9, 0.995))\n",
    "    logger.info(f'==>*adam8bit_use & mix_precision 적용')\n",
    "# adam8bit만 적용한 경우 \n",
    "elif adam8bit_use:\n",
    "    optimizer = bnb.optim.Adam8bit(model.parameters(), lr=learning_rate, betas=(0.9, 0.995))\n",
    "    logger.info(f'==>*adam8bit_use 적용')\n",
    "# mix_precision 만 적용한 경우 \n",
    "elif mix_precision:\n",
    "     # optimizer 적용\n",
    "    optimizer = AdamW(cpu_model.parameters(), lr=learning_rate, eps=1e-8)\n",
    "    logger.info(f'==>*mix_precision 적용')\n",
    "else:\n",
    "    # optimizer 적용\n",
    "    optimizer = AdamW(model.parameters(), lr=learning_rate, eps=1e-8) \n",
    "##################################################\n",
    "\n",
    "# 총 훈련과정에서 반복할 스탭\n",
    "total_steps = len(train_loader)*epochs\n",
    "warmup_steps = total_steps * 0.1 #10% of train data for warm-up\n",
    "\n",
    "# 손실률 보여줄 step 수\n",
    "p_itr = int(len(train_loader)*0.1)  \n",
    "    \n",
    "# step마다 모델 저장\n",
    "save_steps = int(total_steps * 0.5)\n",
    "    \n",
    "# 스캐줄러 생성\n",
    "scheduler = get_linear_schedule_with_warmup(optimizer, \n",
    "                                            num_warmup_steps=warmup_steps, \n",
    "                                            num_training_steps=total_steps)\n",
    "\n",
    "itr = 1\n",
    "total_loss = 0\n",
    "total_len = 0\n",
    "total_correct = 0\n",
    "total_test_correct = 0\n",
    "total_test_len = 0\n",
    "    \n",
    "list_train_loss = []\n",
    "list_train_acc = []\n",
    "list_validation_acc = []\n",
    "\n",
    "##################################################\n",
    "# gradient_checkpoint 설정한 경우 \n",
    "if gradient_checkpoint:\n",
    "    model.gradient_checkpointing_enable()\n",
    "    logger.info(f'==>*gradient_checkpoint 적용')\n",
    "##################################################\n",
    "    \n",
    "if micro_batch:\n",
    "    logger.info(f'==>*micro_batch 적용, accumulation_steps:{accumulation_steps}')\n",
    "   \n",
    "logger.info(f'*batch_size:{batch_size}, epochs:{epochs}, lr:{learning_rate}, token_max_len:{token_max_len}')\n",
    "\n",
    "model.zero_grad()# 그래디언트 초기화\n",
    "for epoch in tqdm(range(epochs)):\n",
    "\n",
    "    model.train() # 훈련모드로 변환\n",
    "    if mix_precision:\n",
    "        cpu_model.train()\n",
    "        \n",
    "    for batch_idx, data in enumerate(tqdm(train_loader)):\n",
    "    \n",
    "        #optimizer.zero_grad()\n",
    "         \n",
    "        # 입력 값 설정\n",
    "        input_ids = data['input_ids'].to(device)\n",
    "        attention_mask = data['attention_mask'].to(device)\n",
    "        token_type_ids = data['token_type_ids'].to(device)       \n",
    "        labels = data['labels'].to(device)\n",
    "        #print('Labels:{}'.format(labels))\n",
    "        \n",
    "        # 모델 실행\n",
    "        outputs = model(input_ids=input_ids, \n",
    "                       attention_mask=attention_mask,\n",
    "                       token_type_ids=token_type_ids,\n",
    "                       labels=labels)\n",
    "        \n",
    "        # 출력값 loss,logits를 outputs에서 얻어옴\n",
    "        loss = outputs.loss\n",
    "        logits = outputs.logits\n",
    "        #print('Loss:{}, logits:{}'.format(loss, logits))\n",
    "        \n",
    "        #######################################################################################\n",
    "        # micro_batch 사용 하는 경우\n",
    "        if micro_batch:\n",
    "            loss = loss / accumulation_steps\n",
    "        #######################################################################################\n",
    "        \n",
    "        # optimizer 과 scheduler 업데이트 시킴\n",
    "        loss.backward()   # backward 구함\n",
    "            \n",
    "        #######################################################################################\n",
    "        # micro_batch 사용 하는 경우\n",
    "        if micro_batch:\n",
    "            if ((batch_idx + 1) % accumulation_steps == 0) or (batch_idx + 1 == len(train_loader)):\n",
    "                # mix_precison 사용인경우\n",
    "                if mix_precision:\n",
    "                    for p_gpu, p_cpu in zip(model.parameters(), cpu_model.parameters()):\n",
    "                        p_cpu.grad = p_gpu.grad.cpu().to(torch.float32)\n",
    "                        #p_cpu.grad = copy.copy(p_gpu.grad.cpu().to(torch.float32))   \n",
    "             \n",
    "                    model.zero_grad()\n",
    "                    optimizer.step()\n",
    "                    scheduler.step()  # 학습률 감소\n",
    "                    model.load_state_dict(cpu_model.state_dict())\n",
    "                    cpu_model.zero_grad()\n",
    "                else:\n",
    "                    torch.nn.utils.clip_grad_norm_(model.parameters(), 1.0)   \n",
    "                    optimizer.step()  # 가중치 파라미터 업데이트(optimizer 이동)\n",
    "                    scheduler.step()  # 학습률 감소\n",
    "                    model.zero_grad()# 그래디언트 초기화\n",
    "        else: \n",
    "                # mix_precison 사용인경우\n",
    "                if mix_precision:\n",
    "                    for p_gpu, p_cpu in zip(model.parameters(), cpu_model.parameters()):\n",
    "                        p_cpu.grad = p_gpu.grad.cpu().to(torch.float32)\n",
    "                        #p_cpu.grad = copy.copy(p_gpu.grad.cpu().to(torch.float32)) \n",
    "                        \n",
    "                    model.zero_grad()\n",
    "                    optimizer.step()\n",
    "                    scheduler.step()  # 학습률 감소\n",
    "                    model.load_state_dict(cpu_model.state_dict())\n",
    "                    cpu_model.zero_grad()\n",
    "                else:\n",
    "                    torch.nn.utils.clip_grad_norm_(model.parameters(), 1.0)   # 그래디언트 클리핑 (gradient vanishing이나 gradient exploding 방지하기 위한 기법)\n",
    "                    optimizer.step()  # 가중치 파라미터 업데이트(optimizer 이동)\n",
    "                    scheduler.step()  # 학습률 감소\n",
    "                    model.zero_grad()# 그래디언트 초기화\n",
    "  \n",
    "        \n",
    "        #######################################################################################\n",
    "           \n",
    "        # ***further pretrain 에는 손실률 계산을 넣지 않음\n",
    "        # 정확도 계산은 no_grade 시켜서, 계산량을 줄임.\n",
    "        \n",
    "        # => torch.no_grad()는 gradient을 계산하는 autograd engine를 비활성화 하여 \n",
    "        # 필요한 메모리를 줄이고, 연산속도를 증가시키는 역활을 함\n",
    "        with torch.no_grad():\n",
    "            \n",
    "            # 손실률 계산\n",
    "            total_loss += loss.item()\n",
    "            \n",
    "            #===========================================\n",
    "            # 정확도(Accurarcy) 계산\n",
    "            correct = AccuracyForMLM(logits, labels, attention_mask)\n",
    "            total_correct += correct.sum().item() \n",
    "            total_len += attention_mask.sum().item() # 단어 총 수는 attension_mask가 1(True) 인 것들의 합\n",
    "            #=========================================\n",
    "                \n",
    "            # 주기마다 test(validataion) 데이터로 평가하여 손실류 계산함.\n",
    "            if itr % p_itr == 0:\n",
    "                \n",
    "                train_loss = total_loss/p_itr\n",
    "                train_acc = total_correct/total_len\n",
    "                       \n",
    "                ####################################################################\n",
    "                # 주기마다 eval(validataion) 데이터로 평가하여 손실류 계산함.\n",
    "                # 평가 시작\n",
    "                model.eval()\n",
    "\n",
    "                #for data in tqdm(eval_loader):\n",
    "                for data in eval_loader:\n",
    "                    # 입력 값 설정\n",
    "                    input_ids = data['input_ids'].to(device)\n",
    "                    attention_mask = data['attention_mask'].to(device)\n",
    "                    token_type_ids = data['token_type_ids'].to(device)       \n",
    "                    labels = data['labels'].to(device)\n",
    "\n",
    "                    with torch.no_grad():\n",
    "                        # 모델 실행\n",
    "                        outputs = model(input_ids=input_ids, \n",
    "                                       attention_mask=attention_mask,\n",
    "                                       token_type_ids=token_type_ids,\n",
    "                                       labels=labels)\n",
    "\n",
    "                        # 출력값 loss,logits를 outputs에서 얻어옴\n",
    "                        #loss = outputs.loss\n",
    "                        logits = outputs.logits\n",
    "\n",
    "                        #===========================================\n",
    "                        # 정확도(Accurarcy) 계산\n",
    "                        correct = AccuracyForMLM(logits, labels, attention_mask)\n",
    "                        total_test_correct += correct.sum().item() \n",
    "                        total_test_len += attention_mask.sum().item()  # 단어 총 수는 attension_mask가 1(True) 인 것들의 합\n",
    "                        #=========================================\n",
    "\n",
    "                val_acc = total_test_correct/total_test_len\n",
    "                    \n",
    "                logger.info('[Epoch {}/{}] Iteration {} -> Train Loss: {:.4f}, Train Acc: {:.4f}, Val Acc:{}'.format(epoch+1, epochs, itr, train_loss, train_acc, val_acc))\n",
    "                    \n",
    "                list_train_loss.append(train_loss)\n",
    "                list_train_acc.append(train_acc)\n",
    "                list_validation_acc.append(val_acc)\n",
    "                 \n",
    "                # 변수들 초기화    \n",
    "                total_loss = 0\n",
    "                total_len = 0\n",
    "                total_correct = 0\n",
    "                total_test_correct = 0\n",
    "                total_test_len = 0\n",
    "                ####################################################################\n",
    "\n",
    "            #if itr % save_steps == 0:\n",
    "                #전체모델 저장\n",
    "                #SaveBERTModel(model, tokenizer, OUTPATH, epochs, learning_rate, batch_size)\n",
    "        \n",
    "        itr+=1\n",
    "   "
   ]
  },
  {
   "cell_type": "code",
   "execution_count": 8,
   "id": "51b2ad73-f4b8-46b7-82a5-d2d54ed35cc7",
   "metadata": {},
   "outputs": [
    {
     "data": {
      "text/plain": [
       "'\\nimport copy\\nfor p_gpu, p_cpu in zip(model.parameters(), cpu_model.parameters()):\\n    #p1 = p_gpu.grad.cpu().to(torch.float32)\\n    print(p_gpu.grad.cpu().to(torch.float32))\\n    p_cpu.grad = copy.copy(p_gpu.grad.cpu().to(torch.float32))   \\n    print(p_cpu.grad)\\n'"
      ]
     },
     "execution_count": 8,
     "metadata": {},
     "output_type": "execute_result"
    }
   ],
   "source": [
    "'''\n",
    "import copy\n",
    "for p_gpu, p_cpu in zip(model.parameters(), cpu_model.parameters()):\n",
    "    #p1 = p_gpu.grad.cpu().to(torch.float32)\n",
    "    print(p_gpu.grad.cpu().to(torch.float32))\n",
    "    p_cpu.grad = copy.copy(p_gpu.grad.cpu().to(torch.float32))   \n",
    "    print(p_cpu.grad)\n",
    "'''"
   ]
  },
  {
   "cell_type": "code",
   "execution_count": 9,
   "id": "b517c6d1-246c-417a-92e8-b310dd4c2f35",
   "metadata": {},
   "outputs": [
    {
     "data": {
      "image/png": "[encoded data removed]",
      "text/plain": [
       "<Figure size 432x288 with 1 Axes>"
      ]
     },
     "metadata": {
      "needs_background": "light"
     },
     "output_type": "display_data"
    },
    {
     "data": {
      "image/png": "[encoded data removed]",
      "text/plain": [
       "<Figure size 432x288 with 1 Axes>"
      ]
     },
     "metadata": {
      "needs_background": "light"
     },
     "output_type": "display_data"
    }
   ],
   "source": [
    "# 그래프로 loss 표기\n",
    "#!pip install matplotlib\n",
    "import matplotlib.pyplot as plt\n",
    "\n",
    "plt.plot(list_train_loss, label='Train Loss')\n",
    "#plt.plot(list_train_acc, label='Train Accuracy')\n",
    "#plt.plot(list_validation_acc, label='Eval Accuracy')\n",
    "plt.legend()\n",
    "plt.show()\n",
    "\n",
    "plt.plot(list_train_acc, label='Train Accuracy')\n",
    "plt.plot(list_validation_acc, label='Eval Accuracy')\n",
    "plt.legend()\n",
    "plt.show()"
   ]
  },
  {
   "cell_type": "code",
   "execution_count": 10,
   "id": "59891576-ff4e-4826-b5b3-90468005a80b",
   "metadata": {},
   "outputs": [],
   "source": [
    "# 모델 저장\n",
    "#save_model(model, tokenizer, OUTPATH, epochs, learning_rate, batch_size)"
   ]
  },
  {
   "cell_type": "code",
   "execution_count": null,
   "id": "111fac71-a6d8-4eb6-bc77-e1bca6b19225",
   "metadata": {},
   "outputs": [],
   "source": []
  }
 ],
 "metadata": {
  "kernelspec": {
   "display_name": "Python 3 (ipykernel)",
   "language": "python",
   "name": "python3"
  },
  "language_info": {
   "codemirror_mode": {
    "name": "ipython",
    "version": 3
   },
   "file_extension": ".py",
   "mimetype": "text/x-python",
   "name": "python",
   "nbconvert_exporter": "python",
   "pygments_lexer": "ipython3",
   "version": "3.9.7"
  }
 },
 "nbformat": 4,
 "nbformat_minor": 5
}

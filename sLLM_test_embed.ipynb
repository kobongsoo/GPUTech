{
 "cells": [
  {
   "cell_type": "code",
   "execution_count": 1,
   "id": "820aa697-ef0d-42e5-8f0f-04852a14e504",
   "metadata": {},
   "outputs": [
    {
     "name": "stderr",
     "output_type": "stream",
     "text": [
      "/MOCOMSYS/anaconda3/envs/bong/lib/python3.9/site-packages/transformers/generation_utils.py:24: FutureWarning: Importing `GenerationMixin` from `src/transformers/generation_utils.py` is deprecated and will be removed in Transformers v5. Import as `from transformers import GenerationMixin` instead.\n",
      "  warnings.warn(\n"
     ]
    },
    {
     "name": "stdout",
     "output_type": "stream",
     "text": [
      "True\n",
      "device: cuda:0\n",
      "cuda index: 0\n",
      "gpu 개수: 1\n",
      "graphic name: NVIDIA A30\n",
      "logfilepath:../../log/sll-test.txt_2023-11-01.log\n"
     ]
    }
   ],
   "source": [
    "#-----------------------------------------------------------------------------------------------------\n",
    "# BERT와 sLLM 모델을 이용한 질의응답 서비스 구축 예\n",
    "# - 여기서는 문서들을 전처리하고, 임베딩 하는 과정임.\n",
    "#\n",
    "# 질의 응답 시스템 과정\n",
    "# 문서들 전처리 : \n",
    "#    단락별루 분할(\\n\\n) - 불용어 제거 -문장별루 분할.\n",
    "# 임베딩 : \n",
    "#    kpf-sbert-v1.1로  문장 평균 임베딩벡터 구함 - es에 문장별루 단락text와 평균벡터 저장.\n",
    "# 프롬프트생성 및 입력 : \n",
    "#   검색어 입력(회사:과장일때 휴가 일수는 얼마?)-bert로 임베딩 검색(*스코어가 0.6이상인 경우 체택)-sLLM에 검색된 단락 text를 문맥으로 해서 prompt 구성\n",
    "#   sLLM에 prompt 입력-응답 결과 출력\n",
    "#-----------------------------------------------------------------------------------------------------\n",
    "\n",
    "import os\n",
    "import random\n",
    "import numpy as np\n",
    "import pandas as pd\n",
    "import time\n",
    "import random\n",
    "\n",
    "import sys\n",
    "sys.path.append('..')\n",
    "from myutils import seed_everything, GPU_info, mlogging, getListOfFiles\n",
    "\n",
    "SEED = 111\n",
    "seed_everything(SEED)\n",
    "DEVICE = GPU_info() # GPU 혹은 CPU\n",
    "LOGGER = mlogging(loggername=\"sllm-test\", logfilename='../../log/sll-test.txt') # 로그\n",
    "\n",
    "os.environ['CUDA_LAUNCH_BLOCKING'] = \"1\"\n",
    "os.environ[\"CUDA_VISIBLE_DEVICES\"] = \"0\""
   ]
  },
  {
   "cell_type": "code",
   "execution_count": 2,
   "id": "2b4e33b1-6cbf-4fc8-ae82-50577909b086",
   "metadata": {},
   "outputs": [
    {
     "name": "stdout",
     "output_type": "stream",
     "text": [
      "*file_count: 46, file_list:['../data11/mpower_doc/사규개정-out-renew/위임전결규정.txt', '../data11/mpower_doc/사규개정-out-renew/유형자산 관리 지침.txt', '../data11/mpower_doc/사규개정-out-renew/의료비 지원 규정.txt', '../data11/mpower_doc/사규개정-out-renew/이사회 운영규정.txt', '../data11/mpower_doc/사규개정-out-renew/인사 규정.txt']\n",
      "*문단 총 계수:977\n",
      "\n"
     ]
    }
   ],
   "source": [
    "# DATA_FOLDER에 파일들을 불러와서 DF로 만듬.\n",
    "# -문서는 \\n으로 구분해야 하며, 맨앞에는 title이 와야 하고, \\n 다음 문단들이 와야함. 문단들은 \\n 구분됨.\n",
    "# -예: 회사 개요\\n{회사내용}\\n{제품구성}\n",
    "\n",
    "# 파일이 여러개인 경우 폴더 지정\n",
    "DATA_FOLDER = '../data11/mpower_doc/사규개정-out-renew/'\n",
    "\n",
    "files = getListOfFiles(DATA_FOLDER)\n",
    "assert len(files) > 0 # files가 0이면 assert 발생\n",
    "print('*file_count: {}, file_list:{}'.format(len(files), files[0:5]))\n",
    "\n",
    "# 파일 경로를 지정하면됨.\n",
    "#files = [\"../data11/mpower_doc/신입사원교육.txt\",]\n",
    "docid = 0  # **카운터가 문서에 uid가 되므로, 유일무이한 값므로 지정할것.\n",
    "count = 0\n",
    "\n",
    "titles = []\n",
    "contextids = []\n",
    "contexts = []\n",
    "\n",
    "for idx, file_path in enumerate(files):\n",
    "    if '.ipynb_checkpoints' not in file_path:\n",
    "        with open(file_path, 'r', encoding='utf-8') as f:\n",
    "            data = f.read()\n",
    "            #print(data)\n",
    "            data_list = data.split('\\n\\n')  # '\\n\\n' 구분으로 다락 구분\n",
    "            docid += 1\n",
    "            count = 0\n",
    "            # titles, contextids 임의로 구해서 데이터 프레임 만듬.\n",
    "            for i in range(len(data_list)):\n",
    "                if i > 0 and data_list[i]:\n",
    "                    count += 1\n",
    "                    titles.append(data_list[0].strip())  # 문서 제목은 맨처음 문장이고 \\n\\n로 구분되어야 함.\n",
    "                    contextids.append(f'{docid}-{count}')\n",
    "                    contexts.append(data_list[0].strip() + '\\n' + data_list[i].strip()) # 두번째는 문서 제목+문서내용 합처서 문장만듬.\n",
    " \n",
    "# 데이터 프레임으로 만듬.\n",
    "df_contexts = pd.DataFrame((zip(contexts, titles, contextids)), columns = ['context','question', 'contextid'])     \n",
    "\n",
    "print(f'*문단 총 계수:{len(df_contexts)}\\n')"
   ]
  },
  {
   "cell_type": "code",
   "execution_count": 3,
   "id": "60ef55ea-bd94-4d73-90b3-9f1b7916e561",
   "metadata": {},
   "outputs": [],
   "source": [
    "# JSON 파일로 저장해둠.\n",
    "import json\n",
    "examples = []\n",
    "\n",
    "for context, title, contextid in zip(contexts, titles, contextids):\n",
    "    doc = {}\n",
    "    doc['context'] = context  # 문단\n",
    "    doc['title'] = title      # 제목\n",
    "    doc['contextid'] = contextid # 문서 id\n",
    "                        \n",
    "    examples.append(doc)\n",
    "                        \n",
    "docs ={}\n",
    "docs['text'] = examples\n",
    "\n",
    "#json 파일로 저장.\n",
    "# JSON 파일을 엽니다.\n",
    "with open(\"./data/moco_context.json\", \"w\") as f:\n",
    "    # 리스트를 JSON으로 변환합니다.\n",
    "    json.dump(docs, f, indent=4)"
   ]
  },
  {
   "cell_type": "code",
   "execution_count": 4,
   "id": "4c584631-299d-4cee-9873-a4fa0ad367fc",
   "metadata": {},
   "outputs": [
    {
     "name": "stderr",
     "output_type": "stream",
     "text": [
      "  0%|          | 0/977 [00:00<?, ?it/s][Kss]: Oh! You have konlpy.tag.Mecab in your environment. Kss will take this as a backend! :D\n",
      "\n",
      "100%|██████████| 977/977 [00:05<00:00, 166.28it/s]"
     ]
    },
    {
     "name": "stdout",
     "output_type": "stream",
     "text": [
      "*[get_sentences] 문장처리=>len:3, time:5.8805\n",
      "*[get_sentences] 문장 길이=>평균:5.60388945752303 / MAX: 23 / MIN: 1\n",
      "\n",
      "len:977, 1: ['위임전결규정', '목적', '이 규정은 회사 업무 집행에 관련된 권한의 한계와 책임의 소재를 분명히 하여 업무수행의 신속과 효율 제고를 도모함을 목적으로 한다.']\n"
     ]
    },
    {
     "name": "stderr",
     "output_type": "stream",
     "text": [
      "\n"
     ]
    }
   ],
   "source": [
    "# 문장들로 분리\n",
    "from myutils import get_sentences\n",
    "doc_sentences = get_sentences(df=df_contexts, remove_sentnece_len=1, remove_duplication=False)\n",
    "\n",
    "print(f'len:{len(doc_sentences)}, 1: {doc_sentences[1]}')"
   ]
  },
  {
   "cell_type": "code",
   "execution_count": 5,
   "id": "f48638f8-0fbf-4c38-92c0-46adf2a51916",
   "metadata": {},
   "outputs": [
    {
     "name": "stderr",
     "output_type": "stream",
     "text": [
      "/MOCOMSYS/anaconda3/envs/bong/lib/python3.9/site-packages/elasticsearch/connection/base.py:200: ElasticsearchWarning: Elasticsearch built-in security features are not enabled. Without authentication, your cluster could be accessible to anyone. See https://www.elastic.co/guide/en/elasticsearch/reference/7.17/security-minimal-setup.html to enable security.\n",
      "  warnings.warn(message, category=ElasticsearchWarning)\n"
     ]
    },
    {
     "name": "stdout",
     "output_type": "stream",
     "text": [
      "1:{\t\t\t\"settings\": {\n",
      "\t\t\t\t\"number_of_shards\": 2,\n",
      "\t\t\t\t\"number_of_replicas\": 1,\n",
      "\t\t\t\t\"index\": {\n",
      "\t\t\t\t\t\"merge\": {\n",
      "\t\t\t\t\t\t\"scheduler\": {\n",
      "\t\t\t\t\t\t\t\"max_thread_count\": 1\n",
      "\t\t\t\t\t\t}\n",
      "\t\t\t\t\t}\n",
      "\t\t\t\t},\n",
      "\t\t\t\t\"analysis\": {\n",
      "\t\t\t\t\t\"analyzer\": {\n",
      "\t\t\t\t\t\t\"mpower10u_korean_analyzer\": {\n",
      "\t\t\t\t\t\t\t\"type\": \"custom\",\n",
      "\t\t\t\t\t\t\t\"tokenizer\": \"mpower10u_korean_tokenizer\",\n",
      "\t\t\t\t\t\t\t\"filter\": [\n",
      "\t\t\t\t\t\t\t\t\"lowercase\",\n",
      "\t\t\t\t\t\t\t\t\"stop\",\n",
      "\t\t\t\t\t\t\t\t\"nori_readingform\",\n",
      "\t\t\t\t\t\t\t\t\"mpower10u_korean_pos\"\n",
      "\t\t\t\t\t\t\t]\n",
      "\t\t\t\t\t\t}\n",
      "\t\t\t\t\t},\n",
      "\t\t\t\t\t\"tokenizer\": {\n",
      "\t\t\t\t\t\t\"mpower10u_korean_tokenizer\": {\n",
      "\t\t\t\t\t\t\t\"type\": \"nori_tokenizer\",\n",
      "\t\t\t\t\t\t\t\"decompound_mode\": \"discard\"\n",
      "\t\t\t\t\t\t}\n",
      "\t\t\t\t\t},\n",
      "\t\t\t\t\t\"filter\": {\n",
      "\t\t\t\t\t\t\"mpower10u_korean_pos\": {\n",
      "\t\t\t\t\t\t\t\"type\": \"nori_part_of_speech\",\n",
      "\t\t\t\t\t\t\t\"stoptags\": [\n",
      "\t\t\t\t\t\t\t\t\"J\", \"E\", \"XSA\", \"XSN\", \"XSV\"\n",
      "\t\t\t\t\t\t\t]\n",
      "\t\t\t\t\t\t}\n",
      "\t\t\t\t\t}\n",
      "\t\t\t\t}\n",
      "\t\t\t},\n",
      "\t\t\t\"mappings\": {\n",
      "\t\t\t\t\"_source\": {\n",
      "\t\t\t\t\t\"enabled\": true\n",
      "\t\t\t\t},\n",
      "\t\t\t\t\"dynamic\":\"strict\",\n",
      "\t\t\t\t\"properties\": {\n",
      "\t\t\t\t\t\"rfile_name\": {\n",
      "\t\t\t\t\t\t\"type\": \"text\",\n",
      "\t\t\t\t\t\t\"store\": true\n",
      "\t\t\t\t\t},\n",
      "\t\t\t\t\t\"rfile_text\": {\n",
      "\t\t\t\t\t\t\"type\": \"text\",\n",
      "\t\t\t\t\t\t\"store\": false,\n",
      "\t\t\t\t\t\t\"analyzer\": \"mpower10u_korean_analyzer\"\n",
      "\t\t\t\t\t},\n",
      "\t\t\t\t\t\"vector1\": {\n",
      "        \t\t\t\t\t\"type\": \"dense_vector\",\n",
      "        \t\t\t\t\t\"dims\": 768\n",
      "      \t\t\t\t\t}\n",
      "\t\t\t\t}\n",
      "\t\t\t}\n",
      "}\n",
      "new create index=>index_file:./data/mpower10u_768d_1.json, index_name:qaindex\n",
      "SentenceTransformer(\n",
      "  (0): Transformer({'max_seq_length': 512, 'do_lower_case': True}) with Transformer model: BertModel \n",
      "  (1): Pooling({'word_embedding_dimension': 768, 'pooling_mode_cls_token': False, 'pooling_mode_mean_tokens': True, 'pooling_mode_max_tokens': False, 'pooling_mode_mean_sqrt_len_tokens': False})\n",
      ")\n",
      "\n"
     ]
    },
    {
     "data": {
      "application/vnd.jupyter.widget-view+json": {
       "model_id": "a4917b70bcf24c1b98a2295856eafc56",
       "version_major": 2,
       "version_minor": 0
      },
      "text/plain": [
       "  0%|          | 0/977 [00:00<?, ?it/s]"
      ]
     },
     "metadata": {},
     "output_type": "display_data"
    },
    {
     "name": "stderr",
     "output_type": "stream",
     "text": [
      "2023-11-01 16:12:43,680 - sllm-test - INFO - *[index_data] embeddings.shape: (3, 768)\n",
      "[Kss]: *[index_data] embeddings.shape: (3, 768)\n",
      "2023-11-01 16:12:43,684 - sllm-test - INFO - *[index_data] cluster emb.shape: (1, 768)\n",
      "[Kss]: *[index_data] cluster emb.shape: (1, 768)\n",
      "2023-11-01 16:12:43,721 - sllm-test - INFO - *[index_data] embeddings.shape: (3, 768)\n",
      "[Kss]: *[index_data] embeddings.shape: (3, 768)\n",
      "2023-11-01 16:12:43,723 - sllm-test - INFO - *[index_data] cluster emb.shape: (1, 768)\n",
      "[Kss]: *[index_data] cluster emb.shape: (1, 768)\n",
      "2023-11-01 16:12:43,764 - sllm-test - INFO - *[index_data] embeddings.shape: (4, 768)\n",
      "[Kss]: *[index_data] embeddings.shape: (4, 768)\n",
      "2023-11-01 16:12:43,768 - sllm-test - INFO - *[index_data] cluster emb.shape: (1, 768)\n",
      "[Kss]: *[index_data] cluster emb.shape: (1, 768)\n"
     ]
    },
    {
     "name": "stdout",
     "output_type": "stream",
     "text": [
      "[0] sentences-------------------\n",
      "['위임전결규정', '적용범위', '주식회사 모코엠시스(이하 회사라 한다)의 업무수행에 관련된 모든 권한과 책임은 다른 사규로 정하지 않는 한 이 규정을 따르고 이 규정에 정하지 않는 권한과 책임은 대표이사가 정한다.']\n",
      "\n",
      "\n",
      "[1] sentences-------------------\n",
      "['위임전결규정', '목적', '이 규정은 회사 업무 집행에 관련된 권한의 한계와 책임의 소재를 분명히 하여 업무수행의 신속과 효율 제고를 도모함을 목적으로 한다.']\n",
      "\n",
      "\n",
      "[2] sentences-------------------\n",
      "['위임전결규정', '용어의 정의', '본부장은 회사의 직책상 사업본부를 맡고 있는 임원을 말한다.', '부서(팀)장은 직위에 관계없이 회사의 직책상 부서(팀)을 맡고 있는 책임자를 말한다.']\n",
      "\n",
      "\n"
     ]
    },
    {
     "data": {
      "application/vnd.jupyter.widget-view+json": {
       "model_id": "815686c353f24985ad92a0ebce324459",
       "version_major": 2,
       "version_minor": 0
      },
      "text/plain": [
       "  0%|          | 0/20 [00:00<?, ?it/s]"
      ]
     },
     "metadata": {},
     "output_type": "display_data"
    },
    {
     "name": "stderr",
     "output_type": "stream",
     "text": [
      "2023-11-01 16:12:44,381 - sllm-test - INFO - [index_data](1) Indexed 20 documents.\n",
      "[Kss]: [index_data](1) Indexed 20 documents.\n"
     ]
    },
    {
     "data": {
      "application/vnd.jupyter.widget-view+json": {
       "model_id": "ef06f7c18b0140368725695cd69603bb",
       "version_major": 2,
       "version_minor": 0
      },
      "text/plain": [
       "  0%|          | 0/20 [00:00<?, ?it/s]"
      ]
     },
     "metadata": {},
     "output_type": "display_data"
    },
    {
     "name": "stderr",
     "output_type": "stream",
     "text": [
      "2023-11-01 16:12:45,019 - sllm-test - INFO - [index_data](1) Indexed 40 documents.\n",
      "[Kss]: [index_data](1) Indexed 40 documents.\n"
     ]
    },
    {
     "data": {
      "application/vnd.jupyter.widget-view+json": {
       "model_id": "89d1ff1b66c94ae5a9faaf20e9803675",
       "version_major": 2,
       "version_minor": 0
      },
      "text/plain": [
       "  0%|          | 0/20 [00:00<?, ?it/s]"
      ]
     },
     "metadata": {},
     "output_type": "display_data"
    },
    {
     "name": "stderr",
     "output_type": "stream",
     "text": [
      "2023-11-01 16:12:45,783 - sllm-test - INFO - [index_data](1) Indexed 60 documents.\n",
      "[Kss]: [index_data](1) Indexed 60 documents.\n"
     ]
    },
    {
     "data": {
      "application/vnd.jupyter.widget-view+json": {
       "model_id": "c0a32dbc65254835be0624cc25630e28",
       "version_major": 2,
       "version_minor": 0
      },
      "text/plain": [
       "  0%|          | 0/20 [00:00<?, ?it/s]"
      ]
     },
     "metadata": {},
     "output_type": "display_data"
    },
    {
     "name": "stderr",
     "output_type": "stream",
     "text": [
      "2023-11-01 16:12:46,478 - sllm-test - INFO - [index_data](1) Indexed 80 documents.\n",
      "[Kss]: [index_data](1) Indexed 80 documents.\n"
     ]
    },
    {
     "data": {
      "application/vnd.jupyter.widget-view+json": {
       "model_id": "cda8dd1d152943408814d59159ec24b7",
       "version_major": 2,
       "version_minor": 0
      },
      "text/plain": [
       "  0%|          | 0/20 [00:00<?, ?it/s]"
      ]
     },
     "metadata": {},
     "output_type": "display_data"
    },
    {
     "name": "stderr",
     "output_type": "stream",
     "text": [
      "2023-11-01 16:12:47,072 - sllm-test - INFO - [index_data](1) Indexed 100 documents.\n",
      "[Kss]: [index_data](1) Indexed 100 documents.\n"
     ]
    },
    {
     "data": {
      "application/vnd.jupyter.widget-view+json": {
       "model_id": "82a70631205348329c6177e8cd73d726",
       "version_major": 2,
       "version_minor": 0
      },
      "text/plain": [
       "  0%|          | 0/20 [00:00<?, ?it/s]"
      ]
     },
     "metadata": {},
     "output_type": "display_data"
    },
    {
     "name": "stderr",
     "output_type": "stream",
     "text": [
      "2023-11-01 16:12:47,748 - sllm-test - INFO - [index_data](1) Indexed 120 documents.\n",
      "[Kss]: [index_data](1) Indexed 120 documents.\n"
     ]
    },
    {
     "data": {
      "application/vnd.jupyter.widget-view+json": {
       "model_id": "00420672ad99433a93f06b4fc1ff188c",
       "version_major": 2,
       "version_minor": 0
      },
      "text/plain": [
       "  0%|          | 0/20 [00:00<?, ?it/s]"
      ]
     },
     "metadata": {},
     "output_type": "display_data"
    },
    {
     "name": "stderr",
     "output_type": "stream",
     "text": [
      "2023-11-01 16:12:48,393 - sllm-test - INFO - [index_data](1) Indexed 140 documents.\n",
      "[Kss]: [index_data](1) Indexed 140 documents.\n"
     ]
    },
    {
     "data": {
      "application/vnd.jupyter.widget-view+json": {
       "model_id": "a6fe2e61ae014d3a89121f2cf1302421",
       "version_major": 2,
       "version_minor": 0
      },
      "text/plain": [
       "  0%|          | 0/20 [00:00<?, ?it/s]"
      ]
     },
     "metadata": {},
     "output_type": "display_data"
    },
    {
     "name": "stderr",
     "output_type": "stream",
     "text": [
      "2023-11-01 16:12:49,089 - sllm-test - INFO - [index_data](1) Indexed 160 documents.\n",
      "[Kss]: [index_data](1) Indexed 160 documents.\n"
     ]
    },
    {
     "data": {
      "application/vnd.jupyter.widget-view+json": {
       "model_id": "b33ecdcaac9d400fbea065811f0a82f4",
       "version_major": 2,
       "version_minor": 0
      },
      "text/plain": [
       "  0%|          | 0/20 [00:00<?, ?it/s]"
      ]
     },
     "metadata": {},
     "output_type": "display_data"
    },
    {
     "name": "stderr",
     "output_type": "stream",
     "text": [
      "2023-11-01 16:12:49,756 - sllm-test - INFO - [index_data](1) Indexed 180 documents.\n",
      "[Kss]: [index_data](1) Indexed 180 documents.\n"
     ]
    },
    {
     "data": {
      "application/vnd.jupyter.widget-view+json": {
       "model_id": "e975cdf311444908a2a957f98832ae57",
       "version_major": 2,
       "version_minor": 0
      },
      "text/plain": [
       "  0%|          | 0/20 [00:00<?, ?it/s]"
      ]
     },
     "metadata": {},
     "output_type": "display_data"
    },
    {
     "name": "stderr",
     "output_type": "stream",
     "text": [
      "2023-11-01 16:12:50,471 - sllm-test - INFO - [index_data](1) Indexed 200 documents.\n",
      "[Kss]: [index_data](1) Indexed 200 documents.\n"
     ]
    },
    {
     "data": {
      "application/vnd.jupyter.widget-view+json": {
       "model_id": "63ebb83a4bb24c6b96645b03a5f25420",
       "version_major": 2,
       "version_minor": 0
      },
      "text/plain": [
       "  0%|          | 0/20 [00:00<?, ?it/s]"
      ]
     },
     "metadata": {},
     "output_type": "display_data"
    },
    {
     "name": "stderr",
     "output_type": "stream",
     "text": [
      "2023-11-01 16:12:51,104 - sllm-test - INFO - [index_data](1) Indexed 220 documents.\n",
      "[Kss]: [index_data](1) Indexed 220 documents.\n"
     ]
    },
    {
     "data": {
      "application/vnd.jupyter.widget-view+json": {
       "model_id": "cd7119402477450ca22bc9f191b63ab6",
       "version_major": 2,
       "version_minor": 0
      },
      "text/plain": [
       "  0%|          | 0/20 [00:00<?, ?it/s]"
      ]
     },
     "metadata": {},
     "output_type": "display_data"
    },
    {
     "name": "stderr",
     "output_type": "stream",
     "text": [
      "2023-11-01 16:12:51,732 - sllm-test - INFO - [index_data](1) Indexed 240 documents.\n",
      "[Kss]: [index_data](1) Indexed 240 documents.\n"
     ]
    },
    {
     "data": {
      "application/vnd.jupyter.widget-view+json": {
       "model_id": "bcf1d343e9ef4d9789743e86936c3f82",
       "version_major": 2,
       "version_minor": 0
      },
      "text/plain": [
       "  0%|          | 0/20 [00:00<?, ?it/s]"
      ]
     },
     "metadata": {},
     "output_type": "display_data"
    },
    {
     "name": "stderr",
     "output_type": "stream",
     "text": [
      "2023-11-01 16:12:52,411 - sllm-test - INFO - [index_data](1) Indexed 260 documents.\n",
      "[Kss]: [index_data](1) Indexed 260 documents.\n"
     ]
    },
    {
     "data": {
      "application/vnd.jupyter.widget-view+json": {
       "model_id": "26a04c7be9c049e18369e46c1dd78e73",
       "version_major": 2,
       "version_minor": 0
      },
      "text/plain": [
       "  0%|          | 0/20 [00:00<?, ?it/s]"
      ]
     },
     "metadata": {},
     "output_type": "display_data"
    },
    {
     "name": "stderr",
     "output_type": "stream",
     "text": [
      "2023-11-01 16:12:53,220 - sllm-test - INFO - [index_data](1) Indexed 280 documents.\n",
      "[Kss]: [index_data](1) Indexed 280 documents.\n"
     ]
    },
    {
     "data": {
      "application/vnd.jupyter.widget-view+json": {
       "model_id": "c24ae4c28d7240c9ae0b1defead645bf",
       "version_major": 2,
       "version_minor": 0
      },
      "text/plain": [
       "  0%|          | 0/20 [00:00<?, ?it/s]"
      ]
     },
     "metadata": {},
     "output_type": "display_data"
    },
    {
     "name": "stderr",
     "output_type": "stream",
     "text": [
      "2023-11-01 16:12:54,016 - sllm-test - INFO - [index_data](1) Indexed 300 documents.\n",
      "[Kss]: [index_data](1) Indexed 300 documents.\n"
     ]
    },
    {
     "data": {
      "application/vnd.jupyter.widget-view+json": {
       "model_id": "d9f729d45a6642d984592d139289eb6a",
       "version_major": 2,
       "version_minor": 0
      },
      "text/plain": [
       "  0%|          | 0/20 [00:00<?, ?it/s]"
      ]
     },
     "metadata": {},
     "output_type": "display_data"
    },
    {
     "name": "stderr",
     "output_type": "stream",
     "text": [
      "2023-11-01 16:12:54,746 - sllm-test - INFO - [index_data](1) Indexed 320 documents.\n",
      "[Kss]: [index_data](1) Indexed 320 documents.\n"
     ]
    },
    {
     "data": {
      "application/vnd.jupyter.widget-view+json": {
       "model_id": "07a8e51b6d994085941a3fcaee824934",
       "version_major": 2,
       "version_minor": 0
      },
      "text/plain": [
       "  0%|          | 0/20 [00:00<?, ?it/s]"
      ]
     },
     "metadata": {},
     "output_type": "display_data"
    },
    {
     "name": "stderr",
     "output_type": "stream",
     "text": [
      "2023-11-01 16:12:55,494 - sllm-test - INFO - [index_data](1) Indexed 340 documents.\n",
      "[Kss]: [index_data](1) Indexed 340 documents.\n"
     ]
    },
    {
     "data": {
      "application/vnd.jupyter.widget-view+json": {
       "model_id": "5332b0e17eb34f879ebabd7bc5f1ae2e",
       "version_major": 2,
       "version_minor": 0
      },
      "text/plain": [
       "  0%|          | 0/20 [00:00<?, ?it/s]"
      ]
     },
     "metadata": {},
     "output_type": "display_data"
    },
    {
     "name": "stderr",
     "output_type": "stream",
     "text": [
      "2023-11-01 16:12:56,134 - sllm-test - INFO - [index_data](1) Indexed 360 documents.\n",
      "[Kss]: [index_data](1) Indexed 360 documents.\n"
     ]
    },
    {
     "data": {
      "application/vnd.jupyter.widget-view+json": {
       "model_id": "ea80db4778134d29ac7600a82531a89e",
       "version_major": 2,
       "version_minor": 0
      },
      "text/plain": [
       "  0%|          | 0/20 [00:00<?, ?it/s]"
      ]
     },
     "metadata": {},
     "output_type": "display_data"
    },
    {
     "name": "stderr",
     "output_type": "stream",
     "text": [
      "2023-11-01 16:12:56,744 - sllm-test - INFO - [index_data](1) Indexed 380 documents.\n",
      "[Kss]: [index_data](1) Indexed 380 documents.\n"
     ]
    },
    {
     "data": {
      "application/vnd.jupyter.widget-view+json": {
       "model_id": "7db78836d51c497fbbb28f6877a1f90f",
       "version_major": 2,
       "version_minor": 0
      },
      "text/plain": [
       "  0%|          | 0/20 [00:00<?, ?it/s]"
      ]
     },
     "metadata": {},
     "output_type": "display_data"
    },
    {
     "name": "stderr",
     "output_type": "stream",
     "text": [
      "2023-11-01 16:12:57,557 - sllm-test - INFO - [index_data](1) Indexed 400 documents.\n",
      "[Kss]: [index_data](1) Indexed 400 documents.\n"
     ]
    },
    {
     "data": {
      "application/vnd.jupyter.widget-view+json": {
       "model_id": "1514f15876ad4d0eaca8ec765590653a",
       "version_major": 2,
       "version_minor": 0
      },
      "text/plain": [
       "  0%|          | 0/20 [00:00<?, ?it/s]"
      ]
     },
     "metadata": {},
     "output_type": "display_data"
    },
    {
     "name": "stderr",
     "output_type": "stream",
     "text": [
      "2023-11-01 16:12:58,161 - sllm-test - INFO - [index_data](1) Indexed 420 documents.\n",
      "[Kss]: [index_data](1) Indexed 420 documents.\n"
     ]
    },
    {
     "data": {
      "application/vnd.jupyter.widget-view+json": {
       "model_id": "4ff12ecef93a425dae2e1091b0beb780",
       "version_major": 2,
       "version_minor": 0
      },
      "text/plain": [
       "  0%|          | 0/20 [00:00<?, ?it/s]"
      ]
     },
     "metadata": {},
     "output_type": "display_data"
    },
    {
     "name": "stderr",
     "output_type": "stream",
     "text": [
      "2023-11-01 16:12:58,748 - sllm-test - INFO - [index_data](1) Indexed 440 documents.\n",
      "[Kss]: [index_data](1) Indexed 440 documents.\n"
     ]
    },
    {
     "data": {
      "application/vnd.jupyter.widget-view+json": {
       "model_id": "118a4924d12446b9ac6d6e0c668378fd",
       "version_major": 2,
       "version_minor": 0
      },
      "text/plain": [
       "  0%|          | 0/20 [00:00<?, ?it/s]"
      ]
     },
     "metadata": {},
     "output_type": "display_data"
    },
    {
     "name": "stderr",
     "output_type": "stream",
     "text": [
      "2023-11-01 16:12:59,328 - sllm-test - INFO - [index_data](1) Indexed 460 documents.\n",
      "[Kss]: [index_data](1) Indexed 460 documents.\n"
     ]
    },
    {
     "data": {
      "application/vnd.jupyter.widget-view+json": {
       "model_id": "be62b1644c874241841aeb247ed1c1a7",
       "version_major": 2,
       "version_minor": 0
      },
      "text/plain": [
       "  0%|          | 0/20 [00:00<?, ?it/s]"
      ]
     },
     "metadata": {},
     "output_type": "display_data"
    },
    {
     "name": "stderr",
     "output_type": "stream",
     "text": [
      "2023-11-01 16:12:59,929 - sllm-test - INFO - [index_data](1) Indexed 480 documents.\n",
      "[Kss]: [index_data](1) Indexed 480 documents.\n"
     ]
    },
    {
     "data": {
      "application/vnd.jupyter.widget-view+json": {
       "model_id": "7299a53e31274eeaa54668504b5d7b29",
       "version_major": 2,
       "version_minor": 0
      },
      "text/plain": [
       "  0%|          | 0/20 [00:00<?, ?it/s]"
      ]
     },
     "metadata": {},
     "output_type": "display_data"
    },
    {
     "name": "stderr",
     "output_type": "stream",
     "text": [
      "2023-11-01 16:13:00,445 - sllm-test - INFO - [index_data](1) Indexed 500 documents.\n",
      "[Kss]: [index_data](1) Indexed 500 documents.\n"
     ]
    },
    {
     "data": {
      "application/vnd.jupyter.widget-view+json": {
       "model_id": "7bfcb9da50f54a9d8483adb535f35abb",
       "version_major": 2,
       "version_minor": 0
      },
      "text/plain": [
       "  0%|          | 0/20 [00:00<?, ?it/s]"
      ]
     },
     "metadata": {},
     "output_type": "display_data"
    },
    {
     "name": "stderr",
     "output_type": "stream",
     "text": [
      "2023-11-01 16:13:01,188 - sllm-test - INFO - [index_data](1) Indexed 520 documents.\n",
      "[Kss]: [index_data](1) Indexed 520 documents.\n"
     ]
    },
    {
     "data": {
      "application/vnd.jupyter.widget-view+json": {
       "model_id": "6a33bc8578624ddca170fc596117ffea",
       "version_major": 2,
       "version_minor": 0
      },
      "text/plain": [
       "  0%|          | 0/20 [00:00<?, ?it/s]"
      ]
     },
     "metadata": {},
     "output_type": "display_data"
    },
    {
     "name": "stderr",
     "output_type": "stream",
     "text": [
      "2023-11-01 16:13:01,968 - sllm-test - INFO - [index_data](1) Indexed 540 documents.\n",
      "[Kss]: [index_data](1) Indexed 540 documents.\n"
     ]
    },
    {
     "data": {
      "application/vnd.jupyter.widget-view+json": {
       "model_id": "136452dd953444d88ca1d7e11eefcd40",
       "version_major": 2,
       "version_minor": 0
      },
      "text/plain": [
       "  0%|          | 0/20 [00:00<?, ?it/s]"
      ]
     },
     "metadata": {},
     "output_type": "display_data"
    },
    {
     "name": "stderr",
     "output_type": "stream",
     "text": [
      "2023-11-01 16:13:02,722 - sllm-test - INFO - [index_data](1) Indexed 560 documents.\n",
      "[Kss]: [index_data](1) Indexed 560 documents.\n"
     ]
    },
    {
     "data": {
      "application/vnd.jupyter.widget-view+json": {
       "model_id": "3e643123dfbe4c54997ebf3ea6f5a2a9",
       "version_major": 2,
       "version_minor": 0
      },
      "text/plain": [
       "  0%|          | 0/20 [00:00<?, ?it/s]"
      ]
     },
     "metadata": {},
     "output_type": "display_data"
    },
    {
     "name": "stderr",
     "output_type": "stream",
     "text": [
      "2023-11-01 16:13:03,432 - sllm-test - INFO - [index_data](1) Indexed 580 documents.\n",
      "[Kss]: [index_data](1) Indexed 580 documents.\n"
     ]
    },
    {
     "data": {
      "application/vnd.jupyter.widget-view+json": {
       "model_id": "a740c3e58cf14f0ba92ff70933eebca6",
       "version_major": 2,
       "version_minor": 0
      },
      "text/plain": [
       "  0%|          | 0/20 [00:00<?, ?it/s]"
      ]
     },
     "metadata": {},
     "output_type": "display_data"
    },
    {
     "name": "stderr",
     "output_type": "stream",
     "text": [
      "2023-11-01 16:13:04,104 - sllm-test - INFO - [index_data](1) Indexed 600 documents.\n",
      "[Kss]: [index_data](1) Indexed 600 documents.\n"
     ]
    },
    {
     "data": {
      "application/vnd.jupyter.widget-view+json": {
       "model_id": "d5636e867ced4e0bb84892b5dd19ff46",
       "version_major": 2,
       "version_minor": 0
      },
      "text/plain": [
       "  0%|          | 0/20 [00:00<?, ?it/s]"
      ]
     },
     "metadata": {},
     "output_type": "display_data"
    },
    {
     "name": "stderr",
     "output_type": "stream",
     "text": [
      "2023-11-01 16:13:04,741 - sllm-test - INFO - [index_data](1) Indexed 620 documents.\n",
      "[Kss]: [index_data](1) Indexed 620 documents.\n"
     ]
    },
    {
     "data": {
      "application/vnd.jupyter.widget-view+json": {
       "model_id": "a57f8a9e09834a2b84b2b88847b53366",
       "version_major": 2,
       "version_minor": 0
      },
      "text/plain": [
       "  0%|          | 0/20 [00:00<?, ?it/s]"
      ]
     },
     "metadata": {},
     "output_type": "display_data"
    },
    {
     "name": "stderr",
     "output_type": "stream",
     "text": [
      "2023-11-01 16:13:05,371 - sllm-test - INFO - [index_data](1) Indexed 640 documents.\n",
      "[Kss]: [index_data](1) Indexed 640 documents.\n"
     ]
    },
    {
     "data": {
      "application/vnd.jupyter.widget-view+json": {
       "model_id": "5e1eaf30aecc4f5abc05e87cf464e124",
       "version_major": 2,
       "version_minor": 0
      },
      "text/plain": [
       "  0%|          | 0/20 [00:00<?, ?it/s]"
      ]
     },
     "metadata": {},
     "output_type": "display_data"
    },
    {
     "name": "stderr",
     "output_type": "stream",
     "text": [
      "2023-11-01 16:13:05,995 - sllm-test - INFO - [index_data](1) Indexed 660 documents.\n",
      "[Kss]: [index_data](1) Indexed 660 documents.\n"
     ]
    },
    {
     "data": {
      "application/vnd.jupyter.widget-view+json": {
       "model_id": "ac882a8d49354c08b451b1d55b57e1b2",
       "version_major": 2,
       "version_minor": 0
      },
      "text/plain": [
       "  0%|          | 0/20 [00:00<?, ?it/s]"
      ]
     },
     "metadata": {},
     "output_type": "display_data"
    },
    {
     "name": "stderr",
     "output_type": "stream",
     "text": [
      "2023-11-01 16:13:06,738 - sllm-test - INFO - [index_data](1) Indexed 680 documents.\n",
      "[Kss]: [index_data](1) Indexed 680 documents.\n"
     ]
    },
    {
     "data": {
      "application/vnd.jupyter.widget-view+json": {
       "model_id": "8b9df870b2e5485286c0c75d0d4e566f",
       "version_major": 2,
       "version_minor": 0
      },
      "text/plain": [
       "  0%|          | 0/20 [00:00<?, ?it/s]"
      ]
     },
     "metadata": {},
     "output_type": "display_data"
    },
    {
     "name": "stderr",
     "output_type": "stream",
     "text": [
      "2023-11-01 16:13:07,511 - sllm-test - INFO - [index_data](1) Indexed 700 documents.\n",
      "[Kss]: [index_data](1) Indexed 700 documents.\n"
     ]
    },
    {
     "data": {
      "application/vnd.jupyter.widget-view+json": {
       "model_id": "f62140daa897456093b7ef8fe243b6c0",
       "version_major": 2,
       "version_minor": 0
      },
      "text/plain": [
       "  0%|          | 0/20 [00:00<?, ?it/s]"
      ]
     },
     "metadata": {},
     "output_type": "display_data"
    },
    {
     "name": "stderr",
     "output_type": "stream",
     "text": [
      "2023-11-01 16:13:08,320 - sllm-test - INFO - [index_data](1) Indexed 720 documents.\n",
      "[Kss]: [index_data](1) Indexed 720 documents.\n"
     ]
    },
    {
     "data": {
      "application/vnd.jupyter.widget-view+json": {
       "model_id": "78e38713a08746cb8097dad114cf1c2c",
       "version_major": 2,
       "version_minor": 0
      },
      "text/plain": [
       "  0%|          | 0/20 [00:00<?, ?it/s]"
      ]
     },
     "metadata": {},
     "output_type": "display_data"
    },
    {
     "name": "stderr",
     "output_type": "stream",
     "text": [
      "2023-11-01 16:13:08,937 - sllm-test - INFO - [index_data](1) Indexed 740 documents.\n",
      "[Kss]: [index_data](1) Indexed 740 documents.\n"
     ]
    },
    {
     "data": {
      "application/vnd.jupyter.widget-view+json": {
       "model_id": "7a6c24509640466fbd87ae0ad4e4b065",
       "version_major": 2,
       "version_minor": 0
      },
      "text/plain": [
       "  0%|          | 0/20 [00:00<?, ?it/s]"
      ]
     },
     "metadata": {},
     "output_type": "display_data"
    },
    {
     "name": "stderr",
     "output_type": "stream",
     "text": [
      "2023-11-01 16:13:09,667 - sllm-test - INFO - [index_data](1) Indexed 760 documents.\n",
      "[Kss]: [index_data](1) Indexed 760 documents.\n"
     ]
    },
    {
     "data": {
      "application/vnd.jupyter.widget-view+json": {
       "model_id": "5d0a7c52ce8149f292edd8df8fd27fa2",
       "version_major": 2,
       "version_minor": 0
      },
      "text/plain": [
       "  0%|          | 0/20 [00:00<?, ?it/s]"
      ]
     },
     "metadata": {},
     "output_type": "display_data"
    },
    {
     "name": "stderr",
     "output_type": "stream",
     "text": [
      "2023-11-01 16:13:10,327 - sllm-test - INFO - [index_data](1) Indexed 780 documents.\n",
      "[Kss]: [index_data](1) Indexed 780 documents.\n"
     ]
    },
    {
     "data": {
      "application/vnd.jupyter.widget-view+json": {
       "model_id": "1b4561b0178d4253b5b2204cd6c8a70d",
       "version_major": 2,
       "version_minor": 0
      },
      "text/plain": [
       "  0%|          | 0/20 [00:00<?, ?it/s]"
      ]
     },
     "metadata": {},
     "output_type": "display_data"
    },
    {
     "name": "stderr",
     "output_type": "stream",
     "text": [
      "2023-11-01 16:13:10,901 - sllm-test - INFO - [index_data](1) Indexed 800 documents.\n",
      "[Kss]: [index_data](1) Indexed 800 documents.\n"
     ]
    },
    {
     "data": {
      "application/vnd.jupyter.widget-view+json": {
       "model_id": "4217d950c1fc40ffa86b28d535bb3ca9",
       "version_major": 2,
       "version_minor": 0
      },
      "text/plain": [
       "  0%|          | 0/20 [00:00<?, ?it/s]"
      ]
     },
     "metadata": {},
     "output_type": "display_data"
    },
    {
     "name": "stderr",
     "output_type": "stream",
     "text": [
      "2023-11-01 16:13:11,428 - sllm-test - INFO - [index_data](1) Indexed 820 documents.\n",
      "[Kss]: [index_data](1) Indexed 820 documents.\n"
     ]
    },
    {
     "data": {
      "application/vnd.jupyter.widget-view+json": {
       "model_id": "4e0668fabc6f42b3871ab1c713e4c500",
       "version_major": 2,
       "version_minor": 0
      },
      "text/plain": [
       "  0%|          | 0/20 [00:00<?, ?it/s]"
      ]
     },
     "metadata": {},
     "output_type": "display_data"
    },
    {
     "name": "stderr",
     "output_type": "stream",
     "text": [
      "2023-11-01 16:13:12,086 - sllm-test - INFO - [index_data](1) Indexed 840 documents.\n",
      "[Kss]: [index_data](1) Indexed 840 documents.\n"
     ]
    },
    {
     "data": {
      "application/vnd.jupyter.widget-view+json": {
       "model_id": "2c2178d31b8341c6abc0711ce6e2278d",
       "version_major": 2,
       "version_minor": 0
      },
      "text/plain": [
       "  0%|          | 0/20 [00:00<?, ?it/s]"
      ]
     },
     "metadata": {},
     "output_type": "display_data"
    },
    {
     "name": "stderr",
     "output_type": "stream",
     "text": [
      "2023-11-01 16:13:12,800 - sllm-test - INFO - [index_data](1) Indexed 860 documents.\n",
      "[Kss]: [index_data](1) Indexed 860 documents.\n"
     ]
    },
    {
     "data": {
      "application/vnd.jupyter.widget-view+json": {
       "model_id": "bab46159b4cf41e19605a85540ce7fa3",
       "version_major": 2,
       "version_minor": 0
      },
      "text/plain": [
       "  0%|          | 0/20 [00:00<?, ?it/s]"
      ]
     },
     "metadata": {},
     "output_type": "display_data"
    },
    {
     "name": "stderr",
     "output_type": "stream",
     "text": [
      "2023-11-01 16:13:13,351 - sllm-test - INFO - [index_data](1) Indexed 880 documents.\n",
      "[Kss]: [index_data](1) Indexed 880 documents.\n"
     ]
    },
    {
     "data": {
      "application/vnd.jupyter.widget-view+json": {
       "model_id": "08d8734a9c84466bb3cef92394bf0a60",
       "version_major": 2,
       "version_minor": 0
      },
      "text/plain": [
       "  0%|          | 0/20 [00:00<?, ?it/s]"
      ]
     },
     "metadata": {},
     "output_type": "display_data"
    },
    {
     "name": "stderr",
     "output_type": "stream",
     "text": [
      "2023-11-01 16:13:13,922 - sllm-test - INFO - [index_data](1) Indexed 900 documents.\n",
      "[Kss]: [index_data](1) Indexed 900 documents.\n"
     ]
    },
    {
     "data": {
      "application/vnd.jupyter.widget-view+json": {
       "model_id": "ae28c52de73e464f8c0e346368d1146e",
       "version_major": 2,
       "version_minor": 0
      },
      "text/plain": [
       "  0%|          | 0/20 [00:00<?, ?it/s]"
      ]
     },
     "metadata": {},
     "output_type": "display_data"
    },
    {
     "name": "stderr",
     "output_type": "stream",
     "text": [
      "2023-11-01 16:13:14,637 - sllm-test - INFO - [index_data](1) Indexed 920 documents.\n",
      "[Kss]: [index_data](1) Indexed 920 documents.\n"
     ]
    },
    {
     "data": {
      "application/vnd.jupyter.widget-view+json": {
       "model_id": "19eaf21c87a8402f816f437ee7724fe2",
       "version_major": 2,
       "version_minor": 0
      },
      "text/plain": [
       "  0%|          | 0/20 [00:00<?, ?it/s]"
      ]
     },
     "metadata": {},
     "output_type": "display_data"
    },
    {
     "name": "stderr",
     "output_type": "stream",
     "text": [
      "2023-11-01 16:13:15,260 - sllm-test - INFO - [index_data](1) Indexed 940 documents.\n",
      "[Kss]: [index_data](1) Indexed 940 documents.\n"
     ]
    },
    {
     "data": {
      "application/vnd.jupyter.widget-view+json": {
       "model_id": "5eae752178c8407abf2bd2b9197d5904",
       "version_major": 2,
       "version_minor": 0
      },
      "text/plain": [
       "  0%|          | 0/20 [00:00<?, ?it/s]"
      ]
     },
     "metadata": {},
     "output_type": "display_data"
    },
    {
     "name": "stderr",
     "output_type": "stream",
     "text": [
      "2023-11-01 16:13:15,852 - sllm-test - INFO - [index_data](1) Indexed 960 documents.\n",
      "[Kss]: [index_data](1) Indexed 960 documents.\n"
     ]
    },
    {
     "data": {
      "application/vnd.jupyter.widget-view+json": {
       "model_id": "32500c8a0df74573802b382316bd65ef",
       "version_major": 2,
       "version_minor": 0
      },
      "text/plain": [
       "  0%|          | 0/17 [00:00<?, ?it/s]"
      ]
     },
     "metadata": {},
     "output_type": "display_data"
    },
    {
     "name": "stderr",
     "output_type": "stream",
     "text": [
      "2023-11-01 16:13:16,411 - sllm-test - INFO - [index_data](2) Indexed 977 documents.\n",
      "[Kss]: [index_data](2) Indexed 977 documents.\n",
      "2023-11-01 16:13:16,454 - sllm-test - INFO - *인덱싱 시간 : 35.4102\n",
      "\n",
      "[Kss]: *인덱싱 시간 : 35.4102\n",
      "\n"
     ]
    },
    {
     "name": "stdout",
     "output_type": "stream",
     "text": [
      "\n"
     ]
    }
   ],
   "source": [
    "# 인덱스 추가\n",
    "from tqdm.notebook import tqdm\n",
    "from myutils import embed_text, bi_encoder, mpower_index_batch\n",
    "from myutils import create_index\n",
    "\n",
    "# ES 관련\n",
    "from elasticsearch import Elasticsearch, helpers\n",
    "from elasticsearch.helpers import bulk\n",
    "    \n",
    "# 조건에 맞게 임베딩 처리하는 함수 \n",
    "def embedding(paragraphs:list)->list:\n",
    "    # 한 문단에 대한 40개 문장 배열들을 한꺼번에 임베딩 처리함\n",
    "    embeddings = embed_text(model=BI_ENCODER1, paragraphs=paragraphs, return_tensor=False).astype(FLOAT_TYPE)    \n",
    "    return embeddings\n",
    "\n",
    "#---------------------------------------------------------------------------\n",
    "#문단에 문장들의 임베딩을 구하여 각각 클러스터링 처리함.\n",
    "#---------------------------------------------------------------------------\n",
    "def index_data(es, df_contexts, doc_sentences:list):\n",
    "    #클러스터링 계수는 문단의 계수보다는 커야 함. \n",
    "    #assert num_clusters <= len(doc_sentences), f\"num_clusters:{num_clusters} > len(doc_sentences):{len(doc_sentences)}\"\n",
    "    #-------------------------------------------------------------\n",
    "    # 각 문단의 문장들에 벡터를 구하고 리스트에 저장해 둠.\n",
    "    start = time.time()\n",
    "    cluster_list = []\n",
    "\n",
    "    rfile_names = df_contexts['contextid'].values.tolist()\n",
    "    rfile_texts = df_contexts['context'].values.tolist()\n",
    "\n",
    "    if OUT_DIMENSION == 0:\n",
    "        dimension = 768\n",
    "    else:\n",
    "        dimension = 128\n",
    "\n",
    "    clustering_num = NUM_CLUSTERS\n",
    "        \n",
    "    docs = []\n",
    "    count = 0\n",
    "    for i, sentences in enumerate(tqdm(doc_sentences)):\n",
    "        embeddings = embedding(sentences)\n",
    "        if i < 3:\n",
    "            print(f'[{i}] sentences-------------------')\n",
    "            if len(sentences) > 5:\n",
    "                print(sentences[:5])\n",
    "            else:\n",
    "                print(sentences)\n",
    "                \n",
    "            LOGGER.info(f'*[index_data] embeddings.shape: {embeddings.shape}')\n",
    "            print()\n",
    "        \n",
    "        #----------------------------------------------------------------\n",
    "        multiple = 1\n",
    "        \n",
    "        # [bong][2023-04-28] 임베딩 출력 계수에 따라 클러스터링 계수를 달리함.\n",
    "        if NUM_CLUSTERS_VARIABLE == True:\n",
    "            embeddings_len = embeddings.shape[0]\n",
    "            if embeddings_len > 2000:\n",
    "                multiple = 6\n",
    "            elif embeddings_len > 1000:\n",
    "                multiple = 5 # 5배\n",
    "            elif embeddings_len > 600:\n",
    "                multiple = 4 # 4배\n",
    "            elif embeddings_len > 300:\n",
    "                multiple = 3 # 3배\n",
    "            elif embeddings_len > 100:\n",
    "                multiple = 2 # 2배\n",
    "        #----------------------------------------------------------------\n",
    "        \n",
    "        # 0=문장클러스터링 임베딩\n",
    "        if EMBEDDING_METHOD == 0:\n",
    "            if CLUSTRING_MODE == \"kmeans\":\n",
    "                # 각 문단에 분할한 문장들의 임베딩 값을 입력해서 클러스터링 하고 평균값을 구함.\n",
    "                # [bong][2023-04-28] 문장이 많은 경우에는 클러스터링 계수를 2,3배수로 함\n",
    "                emb = clustering_embedding(embeddings = embeddings, outmode=OUTMODE, num_clusters=(clustering_num*multiple), seed=SEED).astype(FLOAT_TYPE) \n",
    "            else:\n",
    "                emb = kmedoids_clustering_embedding(embeddings = embeddings, outmode=OUTMODE, num_clusters=(clustering_num*multiple), seed=SEED).astype(FLOAT_TYPE) \n",
    "            \n",
    "        # 1= 문장평균임베딩\n",
    "        elif EMBEDDING_METHOD == 1:\n",
    "            # 문장들에 대해 임베딩 값을 구하고 평균 구함.\n",
    "            arr = np.array(embeddings).astype(FLOAT_TYPE)\n",
    "            emb = arr.mean(axis=0).reshape(1,-1) #(128,) 배열을 (1,128) 형태로 만들기 위해 reshape 해줌\n",
    "            clustering_num = 1  # 평균값일때는 NUM_CLUSTERS=1로 해줌.\n",
    "        # 2=문장임베딩\n",
    "        else:\n",
    "            emb = embeddings\n",
    "\n",
    "        if i < 3:\n",
    "            LOGGER.info(f'*[index_data] cluster emb.shape: {emb.shape}')\n",
    "            print()\n",
    "        \n",
    "        #--------------------------------------------------- \n",
    "        # docs에 저장 \n",
    "        #  [bong][2023-04-28] 여러개 벡터인 경우에는 벡터를 10개씩 분리해서 여러개 docs를 만듬.\n",
    "        for j in range(multiple):\n",
    "            count += 1\n",
    "            doc = {}                                #dict 선언\n",
    "            doc['rfile_name'] = rfile_names[i]      # contextid 담음\n",
    "            doc['rfile_text'] = rfile_texts[i]      # text 담음.\n",
    "            doc['dense_vectors'] = emb[j * clustering_num : (j+1) * clustering_num] # emb 담음.\n",
    "            docs.append(doc)\n",
    "        #---------------------------------------------------    \n",
    "\n",
    "            if count % BATCH_SIZE == 0:\n",
    "                mpower_index_batch(es, ES_INDEX_NAME, docs, vector_len=clustering_num, dim_size=dimension)\n",
    "                docs = []\n",
    "                LOGGER.info(\"[index_data](1) Indexed {} documents.\".format(count))\n",
    "\n",
    "    if docs:\n",
    "        mpower_index_batch(es, ES_INDEX_NAME, docs, vector_len=clustering_num, dim_size=dimension)\n",
    "        LOGGER.info(\"[index_data](2) Indexed {} documents.\".format(count))   \n",
    "\n",
    "    es.indices.refresh(index=ES_INDEX_NAME)\n",
    "\n",
    "    LOGGER.info(f'*인덱싱 시간 : {time.time()-start:.4f}\\n')\n",
    "    print()\n",
    "#---------------------------------------------------------------------------\n",
    "\n",
    "\n",
    "# param--------------------------------------------------------------------\n",
    "OUT_DIMENSION = 0   # 128 혹은 768이면 0입력\n",
    "EMBEDDING_METHOD=1  # 0=클러스터링 임베딩, 1=문장평균임베딩, 2=문장임베딩\n",
    "NUM_CLUSTERS=10     # 클러스터링 임베딩일때 클러스터링 수 \n",
    "NUM_CLUSTERS_VARIABLE=False # 클러스터링 임베딩일때 클러스터링을 문장계수마다 다르계할지.\n",
    "\n",
    "\n",
    "MODEL_PATH = '../data11/model/kpf-sbert-v1.1'\n",
    "POLLING_MODE = 'mean' # 폴링모드 \n",
    "FLOAT_TYPE = 'float16' # float32 혹은 float16\n",
    "\n",
    "# ES 접속\n",
    "ES_URL = 'http://10.10.4.10:9200/'               # es 접속 주소\n",
    "ES_INDEX_NAME = 'qaindex'          # 생성혹은 추가할 인덱스 명\n",
    "ES_INDEX_FILE = './data/mpower10u_768d_1.json'   # 인덱스 구조 파일경로\n",
    "BATCH_SIZE=20       # ES 배치 사이즈\n",
    "CREATE_INDEX = True # True이면 기존에 인덱스가 있다면 제거하고 다시 생성.\n",
    "# param--------------------------------------------------------------------\n",
    "\n",
    "es = Elasticsearch(ES_URL)\n",
    "create_index(es, ES_INDEX_FILE, ES_INDEX_NAME, create=CREATE_INDEX)\n",
    "\n",
    "# 임베딩 모델 로딩\n",
    "WORD_EMBDDING_MODEL1, BI_ENCODER1 = bi_encoder(model_path=MODEL_PATH, max_seq_len=512, do_lower_case=True, \n",
    "                                               pooling_mode=POLLING_MODE, out_dimension=OUT_DIMENSION, device=DEVICE)\n",
    "\n",
    "print(BI_ENCODER1)\n",
    "print()\n",
    "try:\n",
    "    index_data(es, df_contexts, doc_sentences)\n",
    "except Exception as e:\n",
    "    error = f'index_data fail'\n",
    "    msg = f'{error}=>{e}'\n",
    "    LOGGER.error(f'/embed/es {msg}')"
   ]
  },
  {
   "cell_type": "code",
   "execution_count": null,
   "id": "990059ea-bdc3-4328-9e0d-c2653cee6b17",
   "metadata": {},
   "outputs": [],
   "source": []
  }
 ],
 "metadata": {
  "kernelspec": {
   "display_name": "Python 3 (ipykernel)",
   "language": "python",
   "name": "python3"
  },
  "language_info": {
   "codemirror_mode": {
    "name": "ipython",
    "version": 3
   },
   "file_extension": ".py",
   "mimetype": "text/x-python",
   "name": "python",
   "nbconvert_exporter": "python",
   "pygments_lexer": "ipython3",
   "version": "3.9.7"
  }
 },
 "nbformat": 4,
 "nbformat_minor": 5
}
